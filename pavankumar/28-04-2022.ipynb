{
 "cells": [
  {
   "cell_type": "code",
   "execution_count": 30,
   "id": "9101cfc7",
   "metadata": {},
   "outputs": [],
   "source": [
    "import os"
   ]
  },
  {
   "cell_type": "code",
   "execution_count": 34,
   "id": "31d27c8d",
   "metadata": {},
   "outputs": [],
   "source": [
    "file1 = open('28-04-22.txt')\n",
    "data1 = file1.read()\n",
    "a = data1.split('create table')\n",
    "\n",
    "def fun(a):\n",
    "    for val in a:\n",
    "        if len(val)>0:\n",
    "            file2 = open(a[a.index(val)].split()[0]+'.txt','w')\n",
    "            file2.write(val)\n",
    "            file2.close()\n",
    "    print()\n"
   ]
  },
  {
   "cell_type": "code",
   "execution_count": 35,
   "id": "94d5957b",
   "metadata": {},
   "outputs": [
    {
     "name": "stdout",
     "output_type": "stream",
     "text": [
      "\n"
     ]
    }
   ],
   "source": [
    "\n",
    "fun(a)"
   ]
  },
  {
   "cell_type": "code",
   "execution_count": 36,
   "id": "9ae722a4",
   "metadata": {},
   "outputs": [
    {
     "data": {
      "text/plain": [
       "['.ipynb_checkpoints',\n",
       " '28-04-2022.ipynb',\n",
       " '28-04-22.txt',\n",
       " 'ZZMD0P.txt',\n",
       " 'ZZOP0O.txt']"
      ]
     },
     "execution_count": 36,
     "metadata": {},
     "output_type": "execute_result"
    }
   ],
   "source": [
    "os.listdir()"
   ]
  },
  {
   "cell_type": "code",
   "execution_count": null,
   "id": "a694a730",
   "metadata": {},
   "outputs": [],
   "source": []
  }
 ],
 "metadata": {
  "kernelspec": {
   "display_name": "Python 3 (ipykernel)",
   "language": "python",
   "name": "python3"
  },
  "language_info": {
   "codemirror_mode": {
    "name": "ipython",
    "version": 3
   },
   "file_extension": ".py",
   "mimetype": "text/x-python",
   "name": "python",
   "nbconvert_exporter": "python",
   "pygments_lexer": "ipython3",
   "version": "3.9.7"
  }
 },
 "nbformat": 4,
 "nbformat_minor": 5
}
