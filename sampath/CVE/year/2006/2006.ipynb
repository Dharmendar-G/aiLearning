{
 "cells": [
  {
   "cell_type": "code",
   "execution_count": 1,
   "id": "0b64d841",
   "metadata": {},
   "outputs": [],
   "source": [
    "#importing libraries\n",
    "import os\n",
    "import pandas as pd\n",
    "import requests\n",
    "from bs4 import BeautifulSoup\n",
    "import csv\n",
    "\n",
    "#data collection function\n",
    "def newFunction(pageno,year):\n",
    "    url='https://www.cvedetails.com/vulnerability-list.php?vendor_id=0&product_id=0&version_id=0&page={0}&hasexp=0&opdos=0&opec=0&opov=0&opcsrf=0&opgpriv=0&opsqli=0&opxss=0&opdirt=0&opmemc=0&ophttprs=0&opbyp=0&opfileinc=0&opginf=0&cvssscoremin=0&cvssscoremax=0&year={1}&month=0&cweid=0&order=1&trc=7777&sha=45d566efbc1f55ce107b057217e11d794a7bc4fb'.format(pageno,year)\n",
    "    page=requests.get(url)\n",
    "    soup=BeautifulSoup(page.text,'html.parser')\n",
    "    table=soup.find('table',class_='searchresults sortable')\n",
    "    df=pd.read_html(str(table))\n",
    "    df1=pd.DataFrame(df[0])\n",
    "    df1.to_csv('VulByType-{0}-{1}.csv'.format(pageno,year),index=False)\n",
    "\n",
    "#post processing\n",
    "year=2006\n",
    "for pageno in range(1,134):\n",
    "    newFunction(pageno,year)\n",
    "    df1=pd.read_csv('VulByType-{0}-{1}.csv'.format(pageno,year))\n",
    "    df1.drop(['Unnamed: 15','Unnamed: 16','Unnamed: 17','Unnamed: 18','Unnamed: 19'],axis=1,inplace=True)\n",
    "    des1=df1.loc[1::2,'CVE ID'].values\n",
    "    df1=df1[0::2]\n",
    "    df1.reset_index(inplace=True)\n",
    "    df1.drop(['#','index'],axis=1,inplace=True)\n",
    "    df1['Description']=des1\n",
    "    df1.to_csv('VulByType-{0}-{1}.csv'.format(pageno,year))\n",
    "\n",
    "#combined_csv \n",
    "filenames=[i for i in os.listdir() if i.startswith('VulByType')]\n",
    "combined_csv = pd.concat( [ pd.read_csv(f,index_col=[0]) for f in filenames ], axis=0)\n",
    "combined_csv.to_csv('VulByType-{0}-{1}.csv'.format('all',year))\n",
    "\n",
    "#removing CSV's\n",
    "import re\n",
    "csvs=[i for i in os.listdir() if i.endswith('.csv')] \n",
    "filtered=[file for file in csvs if not re.search(r'VulByType-all',file)]\n",
    "for f in filtered:\n",
    "    os.remove(f)"
   ]
  },
  {
   "cell_type": "code",
   "execution_count": null,
   "id": "dff3536c",
   "metadata": {},
   "outputs": [],
   "source": []
  }
 ],
 "metadata": {
  "kernelspec": {
   "display_name": "Python 3 (ipykernel)",
   "language": "python",
   "name": "python3"
  },
  "language_info": {
   "codemirror_mode": {
    "name": "ipython",
    "version": 3
   },
   "file_extension": ".py",
   "mimetype": "text/x-python",
   "name": "python",
   "nbconvert_exporter": "python",
   "pygments_lexer": "ipython3",
   "version": "3.9.7"
  }
 },
 "nbformat": 4,
 "nbformat_minor": 5
}
