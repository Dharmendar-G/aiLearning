{
 "cells": [
  {
   "cell_type": "code",
   "execution_count": 36,
   "id": "a0e2105c",
   "metadata": {},
   "outputs": [],
   "source": [
    "import pydot\n",
    "import os\n",
    "from IPython.display import Image,display\n",
    "\n",
    "os.getcwd()\n",
    "\n",
    "os.chdir('C:\\\\Users\\\\MajjiSampathVinayKum\\\\Desktop\\\\sample')\n",
    "\n",
    "Graph=pydot.Dot(graph_type=\"digraph\")\n",
    "\n",
    "node=pydot.Node(rootDir.split('/')[-1],style='filled',fillcolor='green')\n",
    "Graph.add_node(node)\n",
    "\n",
    "for root,dirs,files in os.walk(rootDir):\n",
    "    for subdir in dirs:\n",
    "        node=pydot.Node(subdir,style='filled',fillcolor='yellow')\n",
    "        Graph.add_node(node)\n",
    "        edge=pydot.Edge(root.split('/')[-1],subdir)\n",
    "        Graph.add_edge(edge)\n",
    "\n",
    "im=Image(Graph.create_png())\n",
    "display(im)"
   ]
  }
 ],
 "metadata": {
  "kernelspec": {
   "display_name": "Python 3 (ipykernel)",
   "language": "python",
   "name": "python3"
  },
  "language_info": {
   "codemirror_mode": {
    "name": "ipython",
    "version": 3
   },
   "file_extension": ".py",
   "mimetype": "text/x-python",
   "name": "python",
   "nbconvert_exporter": "python",
   "pygments_lexer": "ipython3",
   "version": "3.9.7"
  }
 },
 "nbformat": 4,
 "nbformat_minor": 5
}
