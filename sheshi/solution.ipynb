{
 "cells": [
  {
   "cell_type": "code",
   "execution_count": 1,
   "id": "aa13a2aa",
   "metadata": {},
   "outputs": [],
   "source": [
    "file = open('sample.txt','r')\n",
    "data = file.read()\n",
    "file.close()"
   ]
  },
  {
   "cell_type": "code",
   "execution_count": 2,
   "id": "9763719f",
   "metadata": {},
   "outputs": [
    {
     "data": {
      "text/plain": [
       "'create table ZZOP0O nologging as\\nselect\\t/*+ PARALLEL(32)*/ pa01.PARENT_ACCOUNT_ID  PARENT_ACCOUNT_ID,\\n\\npa01.STD_OR_CONTINGENCY  STD_OR_CONTINGENCY,\\n\\npa01.PCLIL1  WJXBFS1\\nfrom\\tZZSP02\\tpa01\\nwhere\\tpa01.GODWFLAG17_1 = 1 \\n\\n\\ncreate table ZZMD0P nologging as\\nselect\\t/*+ PARALLEL(32)*/ coalesce(pa11.STD_OR_CONTINGENCY, pa12.STD_OR_CONTINGENCY)  STD_OR_CONTINGENCY,\\n\\ncoalesce(pa11.PARENT_ACCOUNT_ID, pa12.PARENT_ACCOUNT_ID)  PARENT_ACCOUNT_ID,\\n\\npa11.WJXBFS1  PCLWP1,\\n\\npa11.WJXBFS2  PCLEP1,\\n\\npa12.WJXBFS1  PCLIL1\\nfrom\\tZZOP0N\\tpa11\\n\\nfull outer join\\tZZOP0O\\n\\n  on \\t(pa11.PARENT_ACCOUNT_ID = pa12.PARENT_ACCOUNT_ID and \\n\\npa11.STD_OR_CONTINGENCY = pa12.STD_OR_CONTINGENCY) '"
      ]
     },
     "execution_count": 2,
     "metadata": {},
     "output_type": "execute_result"
    }
   ],
   "source": [
    "data"
   ]
  },
  {
   "cell_type": "code",
   "execution_count": 3,
   "id": "bb1006bf",
   "metadata": {},
   "outputs": [],
   "source": [
    "def fun(data):\n",
    "    data1 = data.split('\\n\\n\\n')\n",
    "    filenames = ['ZZOP0O','ZZMD0P']\n",
    "    for val in data1:\n",
    "        file = open(filenames[data1.index(val)]+'.txt','w+')\n",
    "        file.write(val)\n",
    "        file.close()\n",
    "    print()\n",
    "        \n",
    "        "
   ]
  },
  {
   "cell_type": "code",
   "execution_count": 4,
   "id": "847f1c08",
   "metadata": {},
   "outputs": [
    {
     "name": "stdout",
     "output_type": "stream",
     "text": [
      "\n"
     ]
    }
   ],
   "source": [
    "fun(data)"
   ]
  },
  {
   "cell_type": "code",
   "execution_count": 5,
   "id": "26df2949",
   "metadata": {},
   "outputs": [],
   "source": [
    "import os"
   ]
  },
  {
   "cell_type": "code",
   "execution_count": 6,
   "id": "10b8bb12",
   "metadata": {},
   "outputs": [
    {
     "data": {
      "text/plain": [
       "['.ipynb_checkpoints',\n",
       " 'sample.txt',\n",
       " 'solution.ipynb',\n",
       " 'ZZMD0P.txt',\n",
       " 'ZZOP0O.txt']"
      ]
     },
     "execution_count": 6,
     "metadata": {},
     "output_type": "execute_result"
    }
   ],
   "source": [
    "os.listdir()"
   ]
  },
  {
   "cell_type": "code",
   "execution_count": null,
   "id": "160d361f",
   "metadata": {},
   "outputs": [],
   "source": []
  }
 ],
 "metadata": {
  "kernelspec": {
   "display_name": "Python 3 (ipykernel)",
   "language": "python",
   "name": "python3"
  },
  "language_info": {
   "codemirror_mode": {
    "name": "ipython",
    "version": 3
   },
   "file_extension": ".py",
   "mimetype": "text/x-python",
   "name": "python",
   "nbconvert_exporter": "python",
   "pygments_lexer": "ipython3",
   "version": "3.9.7"
  }
 },
 "nbformat": 4,
 "nbformat_minor": 5
}
