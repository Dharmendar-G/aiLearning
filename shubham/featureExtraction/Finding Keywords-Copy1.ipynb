{
 "cells": [
  {
   "cell_type": "markdown",
   "id": "d723fd13",
   "metadata": {},
   "source": [
    "# find the followings keywords in csv file\n",
    "\n",
    "1. 'Building Occupancy(Single family/2-4 family)'\n",
    "\n",
    "2. 'Flood deductible',\n",
    "\n",
    "3. 'What is the deductible on the homeowners policy?',\n",
    "\n",
    "4. 'Is dwelling in course of construction?(Yes/No)'"
   ]
  },
  {
   "cell_type": "code",
   "execution_count": 1,
   "id": "10dcf6b1",
   "metadata": {},
   "outputs": [],
   "source": [
    "# from email import header\n",
    "import pandas as pd\n",
    "import numpy as np\n",
    "import glob\n",
    "import re"
   ]
  },
  {
   "cell_type": "code",
   "execution_count": 2,
   "id": "2e47cd69",
   "metadata": {},
   "outputs": [],
   "source": [
    "def match(lst_sent, key):\n",
    "    for i in lst_sent:\n",
    "        if re.search(f'{key}'.lower(),i):\n",
    "            print(f\"found-----> {key}\")\n",
    "#             print(f\"found in {i}\")\n",
    "        else:\n",
    "            pass\n",
    "#             print(\"Not found\")"
   ]
  },
  {
   "cell_type": "code",
   "execution_count": 3,
   "id": "b65efbdf",
   "metadata": {},
   "outputs": [],
   "source": [
    "def lst_sent(n,key):\n",
    "    lst=[] #creating an empty list to store unique sentences in csv. \n",
    "    for i in range(1,n):   \n",
    "        df = pd.read_csv(str(i)+'.csv')   #reading all 6 csv\n",
    "        for i in df['new_col'].unique():\n",
    "            lst.append((str(i).lower()))\n",
    "              \n",
    "    match(lst, key)  \n",
    "    return "
   ]
  },
  {
   "cell_type": "code",
   "execution_count": 4,
   "id": "093ea5b5",
   "metadata": {},
   "outputs": [
    {
     "name": "stdout",
     "output_type": "stream",
     "text": [
      "found-----> Building Occupancy\n",
      "found-----> Building Occupancy\n",
      "found-----> Building Occupancy\n"
     ]
    }
   ],
   "source": [
    "#find if keyword \"Building Occupancy\" in csv files\"\n",
    "lst_sent(7,'Building Occupancy')"
   ]
  },
  {
   "cell_type": "code",
   "execution_count": 5,
   "id": "efe67fe5",
   "metadata": {},
   "outputs": [
    {
     "name": "stdout",
     "output_type": "stream",
     "text": [
      "found-----> flood deductible\n",
      "found-----> flood deductible\n",
      "found-----> flood deductible\n",
      "found-----> flood deductible\n",
      "found-----> flood deductible\n"
     ]
    }
   ],
   "source": [
    "#find if keyword \"flood deductible\" in csv files\"\n",
    "lst_sent(7,'flood deductible')"
   ]
  },
  {
   "cell_type": "code",
   "execution_count": 6,
   "id": "3f9b7ada",
   "metadata": {},
   "outputs": [
    {
     "name": "stdout",
     "output_type": "stream",
     "text": [
      "found-----> What is the deductible on the homeowners policy?\n",
      "found-----> What is the deductible on the homeowners policy?\n"
     ]
    }
   ],
   "source": [
    "#find if keyword \"What is the deductible on the homeowners policy?\" in csv files\"\n",
    "lst_sent(7,'What is the deductible on the homeowners policy?')"
   ]
  },
  {
   "cell_type": "code",
   "execution_count": 7,
   "id": "0630d448",
   "metadata": {},
   "outputs": [
    {
     "name": "stdout",
     "output_type": "stream",
     "text": [
      "found-----> Is dwelling in course of construction?\n",
      "found-----> Is dwelling in course of construction?\n",
      "found-----> Is dwelling in course of construction?\n"
     ]
    }
   ],
   "source": [
    "#find if keyword \"Is dwelling in course of construction?\" in csv files\"\n",
    "lst_sent(7,'Is dwelling in course of construction?')"
   ]
  },
  {
   "cell_type": "code",
   "execution_count": null,
   "id": "ff589a47",
   "metadata": {},
   "outputs": [],
   "source": []
  },
  {
   "cell_type": "code",
   "execution_count": null,
   "id": "f9efc33f",
   "metadata": {},
   "outputs": [],
   "source": []
  }
 ],
 "metadata": {
  "kernelspec": {
   "display_name": "dl_env",
   "language": "python",
   "name": "dl_env"
  },
  "language_info": {
   "codemirror_mode": {
    "name": "ipython",
    "version": 3
   },
   "file_extension": ".py",
   "mimetype": "text/x-python",
   "name": "python",
   "nbconvert_exporter": "python",
   "pygments_lexer": "ipython3",
   "version": "3.9.7"
  }
 },
 "nbformat": 4,
 "nbformat_minor": 5
}
