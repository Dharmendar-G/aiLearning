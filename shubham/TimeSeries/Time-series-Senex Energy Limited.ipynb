{
 "cells": [
  {
   "cell_type": "code",
   "execution_count": 1,
   "metadata": {},
   "outputs": [],
   "source": [
    "#!pip install chart_studio"
   ]
  },
  {
   "cell_type": "code",
   "execution_count": 2,
   "metadata": {},
   "outputs": [
    {
     "name": "stdout",
     "output_type": "stream",
     "text": [
      "Wall time: 0 ns\n"
     ]
    }
   ],
   "source": [
    "%time"
   ]
  },
  {
   "cell_type": "code",
   "execution_count": 3,
   "metadata": {
    "_cell_guid": "79c7e3d0-c299-4dcb-8224-4455121ee9b0",
    "_kg_hide-input": false,
    "_kg_hide-output": false,
    "_uuid": "d629ff2d2480ee46fbb7e2d37f6b5fab8052498a",
    "scrolled": true
   },
   "outputs": [
    {
     "data": {
      "text/html": [
       "        <script type=\"text/javascript\">\n",
       "        window.PlotlyConfig = {MathJaxConfig: 'local'};\n",
       "        if (window.MathJax) {MathJax.Hub.Config({SVG: {font: \"STIX-Web\"}});}\n",
       "        if (typeof require !== 'undefined') {\n",
       "        require.undef(\"plotly\");\n",
       "        requirejs.config({\n",
       "            paths: {\n",
       "                'plotly': ['https://cdn.plot.ly/plotly-2.9.0.min']\n",
       "            }\n",
       "        });\n",
       "        require(['plotly'], function(Plotly) {\n",
       "            window._Plotly = Plotly;\n",
       "        });\n",
       "        }\n",
       "        </script>\n",
       "        "
      ]
     },
     "metadata": {},
     "output_type": "display_data"
    }
   ],
   "source": [
    "# Importing libraries\n",
    "import os\n",
    "import warnings\n",
    "warnings.filterwarnings('ignore')\n",
    "import numpy as np \n",
    "import pandas as pd\n",
    "import matplotlib.pyplot as plt\n",
    "plt.style.use('fivethirtyeight') \n",
    "# Above is a special style template for matplotlib, highly useful for visualizing time series data\n",
    "%matplotlib inline\n",
    "from pylab import rcParams\n",
    "from plotly import tools\n",
    "import chart_studio.plotly as py\n",
    "from plotly.offline import init_notebook_mode, iplot\n",
    "init_notebook_mode(connected=True)\n",
    "import plotly.graph_objs as go\n",
    "import plotly.figure_factory as ff\n",
    "import statsmodels.api as sm\n",
    "from numpy.random import normal, seed\n",
    "from scipy.stats import norm\n",
    "from statsmodels.tsa.arima_model import ARMA\n",
    "from statsmodels.tsa.stattools import adfuller\n",
    "from statsmodels.graphics.tsaplots import plot_acf, plot_pacf\n",
    "from statsmodels.tsa.arima_process import ArmaProcess\n",
    "from statsmodels.tsa.arima_model import ARIMA\n",
    "import math\n",
    "from sklearn.metrics import mean_squared_error"
   ]
  },
  {
   "cell_type": "markdown",
   "metadata": {
    "_uuid": "c0dc336a9d4969910d85fbb9462f2dde0bb01dc3"
   },
   "source": [
    "# <a id='1'>1. Introduction to date and time</a>"
   ]
  },
  {
   "cell_type": "markdown",
   "metadata": {
    "_uuid": "d8fd2907fd2d4ef86da73d65ba3d228dd56326a8"
   },
   "source": [
    "## <a id='1.1'>1.1 Importing time series data</a>"
   ]
  },
  {
   "cell_type": "markdown",
   "metadata": {
    "_uuid": "0a98331f0441b4365873a02f0c2208321ac959b0"
   },
   "source": [
    "### How to import data?\n",
    "First, we import all the datasets needed for this kernel. The required time series column is imported as a datetime column using **parse_dates** parameter and is also selected as index of the dataframe using **index_col** parameter. \n",
    "#### Data being used:-\n",
    "1. Senex Energy Limited(sel)  Stocks Data\n"
   ]
  },
  {
   "cell_type": "code",
   "execution_count": 13,
   "metadata": {
    "_uuid": "3ded63a0ec9e973d605a44fbea7ec50bb8c85a90"
   },
   "outputs": [
    {
     "data": {
      "text/html": [
       "<div>\n",
       "<style scoped>\n",
       "    .dataframe tbody tr th:only-of-type {\n",
       "        vertical-align: middle;\n",
       "    }\n",
       "\n",
       "    .dataframe tbody tr th {\n",
       "        vertical-align: top;\n",
       "    }\n",
       "\n",
       "    .dataframe thead th {\n",
       "        text-align: right;\n",
       "    }\n",
       "</style>\n",
       "<table border=\"1\" class=\"dataframe\">\n",
       "  <thead>\n",
       "    <tr style=\"text-align: right;\">\n",
       "      <th></th>\n",
       "      <th>Open</th>\n",
       "      <th>High</th>\n",
       "      <th>Low</th>\n",
       "      <th>Close</th>\n",
       "      <th>Adj Close</th>\n",
       "      <th>Volume</th>\n",
       "    </tr>\n",
       "    <tr>\n",
       "      <th>Date</th>\n",
       "      <th></th>\n",
       "      <th></th>\n",
       "      <th></th>\n",
       "      <th></th>\n",
       "      <th></th>\n",
       "      <th></th>\n",
       "    </tr>\n",
       "  </thead>\n",
       "  <tbody>\n",
       "    <tr>\n",
       "      <th>1988-01-29</th>\n",
       "      <td>7.165657</td>\n",
       "      <td>7.165657</td>\n",
       "      <td>7.165657</td>\n",
       "      <td>7.165657</td>\n",
       "      <td>6.885041</td>\n",
       "      <td>0</td>\n",
       "    </tr>\n",
       "    <tr>\n",
       "      <th>1988-02-01</th>\n",
       "      <td>7.165657</td>\n",
       "      <td>7.165657</td>\n",
       "      <td>7.165657</td>\n",
       "      <td>7.165657</td>\n",
       "      <td>6.885041</td>\n",
       "      <td>0</td>\n",
       "    </tr>\n",
       "    <tr>\n",
       "      <th>1988-02-02</th>\n",
       "      <td>7.165657</td>\n",
       "      <td>7.165657</td>\n",
       "      <td>7.165657</td>\n",
       "      <td>7.165657</td>\n",
       "      <td>6.885041</td>\n",
       "      <td>0</td>\n",
       "    </tr>\n",
       "    <tr>\n",
       "      <th>1988-02-03</th>\n",
       "      <td>7.165657</td>\n",
       "      <td>7.165657</td>\n",
       "      <td>7.165657</td>\n",
       "      <td>7.165657</td>\n",
       "      <td>6.885041</td>\n",
       "      <td>0</td>\n",
       "    </tr>\n",
       "    <tr>\n",
       "      <th>1988-02-04</th>\n",
       "      <td>7.165657</td>\n",
       "      <td>7.165657</td>\n",
       "      <td>7.165657</td>\n",
       "      <td>7.165657</td>\n",
       "      <td>6.885041</td>\n",
       "      <td>0</td>\n",
       "    </tr>\n",
       "  </tbody>\n",
       "</table>\n",
       "</div>"
      ],
      "text/plain": [
       "                Open      High       Low     Close  Adj Close  Volume\n",
       "Date                                                                 \n",
       "1988-01-29  7.165657  7.165657  7.165657  7.165657   6.885041       0\n",
       "1988-02-01  7.165657  7.165657  7.165657  7.165657   6.885041       0\n",
       "1988-02-02  7.165657  7.165657  7.165657  7.165657   6.885041       0\n",
       "1988-02-03  7.165657  7.165657  7.165657  7.165657   6.885041       0\n",
       "1988-02-04  7.165657  7.165657  7.165657  7.165657   6.885041       0"
      ]
     },
     "execution_count": 13,
     "metadata": {},
     "output_type": "execute_result"
    }
   ],
   "source": [
    "sel = pd.read_csv('SXY.AX-1988-2022.csv', index_col='Date', parse_dates=['Date'])\n",
    "sel.head()"
   ]
  },
  {
   "cell_type": "code",
   "execution_count": 15,
   "metadata": {},
   "outputs": [
    {
     "ename": "AttributeError",
     "evalue": "'NoneType' object has no attribute 'fillna'",
     "output_type": "error",
     "traceback": [
      "\u001b[1;31m---------------------------------------------------------------------------\u001b[0m",
      "\u001b[1;31mAttributeError\u001b[0m                            Traceback (most recent call last)",
      "\u001b[1;32mC:\\Users\\SHUBHA~2\\AppData\\Local\\Temp/ipykernel_18464/3358757852.py\u001b[0m in \u001b[0;36m<module>\u001b[1;34m\u001b[0m\n\u001b[1;32m----> 1\u001b[1;33m \u001b[0msel\u001b[0m\u001b[1;33m.\u001b[0m\u001b[0mfillna\u001b[0m\u001b[1;33m(\u001b[0m\u001b[0mmethod\u001b[0m\u001b[1;33m=\u001b[0m\u001b[1;34m'bfill'\u001b[0m\u001b[1;33m,\u001b[0m \u001b[0minplace\u001b[0m\u001b[1;33m=\u001b[0m\u001b[1;32mTrue\u001b[0m\u001b[1;33m)\u001b[0m\u001b[1;33m\u001b[0m\u001b[1;33m\u001b[0m\u001b[0m\n\u001b[0m\u001b[0;32m      2\u001b[0m \u001b[0msel\u001b[0m\u001b[1;33m.\u001b[0m\u001b[0mhead\u001b[0m\u001b[1;33m(\u001b[0m\u001b[1;33m)\u001b[0m\u001b[1;33m\u001b[0m\u001b[1;33m\u001b[0m\u001b[0m\n",
      "\u001b[1;31mAttributeError\u001b[0m: 'NoneType' object has no attribute 'fillna'"
     ]
    }
   ],
   "source": [
    "sel.fillna(method='bfill', inplace=True)\n",
    "sel.head()"
   ]
  },
  {
   "cell_type": "code",
   "execution_count": 6,
   "metadata": {
    "_uuid": "13599f97548a5b33fa28b016bff5152c17d49296"
   },
   "outputs": [
    {
     "data": {
      "image/png": "[encoded data removed]",
      "text/plain": [
       "<Figure size 720x864 with 6 Axes>"
      ]
     },
     "metadata": {
      "needs_background": "light"
     },
     "output_type": "display_data"
    }
   ],
   "source": [
    "sel['2008':'2010'].plot(subplots=True, figsize=(10,12))\n",
    "plt.title('sel stock attributes from 2008 to 2010')\n",
    "plt.savefig('stocks.png')\n",
    "plt.show()"
   ]
  },
  {
   "cell_type": "markdown",
   "metadata": {
    "_uuid": "72d0ea11c176f3731727b81269148188141c7dcc"
   },
   "source": [
    "# <a id='2'>2. Finance and statistics</a>"
   ]
  },
  {
   "cell_type": "markdown",
   "metadata": {
    "_uuid": "e99a77337a15dfbcc5ec97358c0d31d0ca04ab0d"
   },
   "source": [
    "## <a id='2.1'>2.1 Percent change</a>"
   ]
  },
  {
   "cell_type": "code",
   "execution_count": 7,
   "metadata": {
    "_uuid": "ee26cbd48ae1025b9a072a4385609d6abc0406d9"
   },
   "outputs": [
    {
     "data": {
      "text/plain": [
       "<AxesSubplot:xlabel='Date'>"
      ]
     },
     "execution_count": 7,
     "metadata": {},
     "output_type": "execute_result"
    },
    {
     "data": {
      "image/png": "[encoded data removed]",
      "text/plain": [
       "<Figure size 1440x576 with 1 Axes>"
      ]
     },
     "metadata": {
      "needs_background": "light"
     },
     "output_type": "display_data"
    }
   ],
   "source": [
    "sel['Change'] = sel.High.div(sel.High.shift())\n",
    "sel['Change'].plot(figsize=(20,8))"
   ]
  },
  {
   "cell_type": "markdown",
   "metadata": {
    "_uuid": "eed7547b522e9630ea2dc833afdee51e61ca41e6"
   },
   "source": [
    "## <a id='2.2'>2.2 Stock returns</a> "
   ]
  },
  {
   "cell_type": "code",
   "execution_count": 8,
   "metadata": {
    "_uuid": "09d5af0ce40cfdd1338433c204538fe894004b3f"
   },
   "outputs": [
    {
     "ename": "NameError",
     "evalue": "name 'google' is not defined",
     "output_type": "error",
     "traceback": [
      "\u001b[1;31m---------------------------------------------------------------------------\u001b[0m",
      "\u001b[1;31mNameError\u001b[0m                                 Traceback (most recent call last)",
      "\u001b[1;32mC:\\Users\\SHUBHA~2\\AppData\\Local\\Temp/ipykernel_18464/805540757.py\u001b[0m in \u001b[0;36m<module>\u001b[1;34m\u001b[0m\n\u001b[1;32m----> 1\u001b[1;33m \u001b[0mgoogle\u001b[0m\u001b[1;33m[\u001b[0m\u001b[1;34m'Return'\u001b[0m\u001b[1;33m]\u001b[0m \u001b[1;33m=\u001b[0m \u001b[0mgoogle\u001b[0m\u001b[1;33m.\u001b[0m\u001b[0mChange\u001b[0m\u001b[1;33m.\u001b[0m\u001b[0msub\u001b[0m\u001b[1;33m(\u001b[0m\u001b[1;36m1\u001b[0m\u001b[1;33m)\u001b[0m\u001b[1;33m.\u001b[0m\u001b[0mmul\u001b[0m\u001b[1;33m(\u001b[0m\u001b[1;36m100\u001b[0m\u001b[1;33m)\u001b[0m\u001b[1;33m\u001b[0m\u001b[1;33m\u001b[0m\u001b[0m\n\u001b[0m\u001b[0;32m      2\u001b[0m \u001b[0mgoogle\u001b[0m\u001b[1;33m[\u001b[0m\u001b[1;34m'Return'\u001b[0m\u001b[1;33m]\u001b[0m\u001b[1;33m.\u001b[0m\u001b[0mplot\u001b[0m\u001b[1;33m(\u001b[0m\u001b[0mfigsize\u001b[0m\u001b[1;33m=\u001b[0m\u001b[1;33m(\u001b[0m\u001b[1;36m20\u001b[0m\u001b[1;33m,\u001b[0m\u001b[1;36m8\u001b[0m\u001b[1;33m)\u001b[0m\u001b[1;33m)\u001b[0m\u001b[1;33m\u001b[0m\u001b[1;33m\u001b[0m\u001b[0m\n",
      "\u001b[1;31mNameError\u001b[0m: name 'google' is not defined"
     ]
    }
   ],
   "source": [
    "sel['Return'] = sel.Change.sub(1).mul(100)\n",
    "sel['Return'].plot(figsize=(20,8))"
   ]
  },
  {
   "cell_type": "code",
   "execution_count": null,
   "metadata": {
    "_uuid": "f5f7a089b1ae64b4403c588f8095332bc32c0d11"
   },
   "outputs": [],
   "source": [
    "sel.High.pct_change().mul(100).plot(figsize=(22,8))"
   ]
  },
  {
   "cell_type": "markdown",
   "metadata": {
    "_uuid": "1daf826b9b25c7f3c69683d9b59a7d2aa285df06"
   },
   "source": [
    "## <a id='2.3'>2.3 Absolute change in successive rows</a>"
   ]
  },
  {
   "cell_type": "code",
   "execution_count": null,
   "metadata": {
    "_uuid": "399bd0a9f469d69dd11523e54f1599302291be44"
   },
   "outputs": [],
   "source": [
    "sel.High.diff().plot(figsize=(20,7))"
   ]
  },
  {
   "cell_type": "markdown",
   "metadata": {
    "_uuid": "bd5ec63ecd09543b21df15aff6432db598ee1ab5",
    "collapsed": true
   },
   "source": [
    "## <a id='2.4'>2.4 Comaring two or more time series</a> "
   ]
  },
  {
   "cell_type": "markdown",
   "metadata": {
    "_uuid": "7a7a4a918d1d80d19d33f71965a3ca5583a8aa2e"
   },
   "source": [
    "We will compare 2 time series by normalizing them. This is achieved by dividing each time series element of all time series by the first element. This way both series start at the same point and can be easily compared."
   ]
  },
  {
   "cell_type": "code",
   "execution_count": null,
   "metadata": {
    "_uuid": "91ff99a81a53eecbda4e8c81b231db3dc8f62082"
   },
   "outputs": [],
   "source": [
    "# We choose microsoft stocks to compare them with google\n",
    "google = pd.read_csv(\"C:/Users/ShubhamSurya_ljtsrll/AI-Training/Machine Learning/TimeSeries/TimeSeries/GOOGL_2006-01-01_to_2018-01-01.csv\", index_col='Date', parse_dates=['Date'])"
   ]
  },
  {
   "cell_type": "code",
   "execution_count": null,
   "metadata": {
    "_uuid": "751ce8e4ff9bb26f106342c26d9f4893c21a7bfa"
   },
   "outputs": [],
   "source": [
    "# Plotting before normalization\n",
    "google.High.plot()\n",
    "sel.High.plot()\n",
    "plt.legend(['Google','sel'])\n",
    "plt.show()"
   ]
  },
  {
   "cell_type": "code",
   "execution_count": null,
   "metadata": {
    "_uuid": "e9d610487415c9c65726c187909abbd8ce0f57b0"
   },
   "outputs": [],
   "source": [
    "# Normalizing and comparison\n",
    "# Both stocks start from 100\n",
    "normalized_google = google.High.div(google.High.iloc[0]).mul(100)\n",
    "normalized_sel = sel.High.div(microsoft.High.iloc[0]).mul(100)\n",
    "normalized_google.plot()\n",
    "normalized_sel.plot()\n",
    "plt.legend(['Google','sel'])\n",
    "plt.show()"
   ]
  },
  {
   "cell_type": "markdown",
   "metadata": {
    "_uuid": "5a89d0a945a7cff7d2dbd074d437be83607c17e3"
   },
   "source": [
    "You can clearly see how google outperforms microsoft over time."
   ]
  },
  {
   "cell_type": "markdown",
   "metadata": {
    "_uuid": "7de5aa0e16da9790177a2994e843b4bf69c82688",
    "collapsed": true
   },
   "source": [
    "## <a id='2.5'>2.5 Window functions</a>\n",
    "Window functions are used to identify sub periods, calculates sub-metrics of sub-periods.\n",
    "\n",
    "**Rolling** - Same size and sliding\n",
    "\n",
    "**Expanding** - Contains all prior values"
   ]
  },
  {
   "cell_type": "code",
   "execution_count": null,
   "metadata": {
    "_uuid": "2759a3894d231e62d1a868d61591a78796b428ac"
   },
   "outputs": [],
   "source": [
    "# Rolling window functions\n",
    "rolling_sel = sel.High.rolling('90D').mean()\n",
    "sel.High.plot()\n",
    "rolling_sel.plot()\n",
    "plt.legend(['High','Rolling Mean'])\n",
    "# Plotting a rolling mean of 90 day window with original High attribute of google stocks\n",
    "plt.show()"
   ]
  },
  {
   "cell_type": "markdown",
   "metadata": {
    "_uuid": "6de30c1c19b15b698c04f6328430d25e0c29e016"
   },
   "source": [
    "Now, observe that rolling mean plot is a smoother version of the original plot."
   ]
  },
  {
   "cell_type": "code",
   "execution_count": null,
   "metadata": {
    "_uuid": "0c00473ae42582d73987233a761e0a22a9c2b9af"
   },
   "outputs": [],
   "source": [
    "# Expanding window functions\n",
    "microsoft_mean = sel.High.expanding().mean()\n",
    "microsoft_std = sel.High.expanding().std()\n",
    "sel.High.plot()\n",
    "sel.plot()\n",
    "sel.plot()\n",
    "plt.legend(['High','Expanding Mean','Expanding Standard Deviation'])\n",
    "plt.show()"
   ]
  },
  {
   "cell_type": "markdown",
   "metadata": {
    "_uuid": "468318f02e689885dd64c8c4cc30984fb91d8f3b"
   },
   "source": [
    "## <a id='2.6'>2.6 OHLC charts</a>\n",
    "An OHLC chart is any type of price chart that shows the open, high, low and close price of a certain time period. Open-high-low-close Charts (or OHLC Charts) are used as a trading tool to visualise and analyse the price changes over time for securities, currencies, stocks, bonds, commodities, etc. OHLC Charts are useful for interpreting the day-to-day sentiment of the market and forecasting any future price changes through the patterns produced.\n",
    "\n",
    "The y-axis on an OHLC Chart is used for the price scale, while the x-axis is the timescale. On each single time period, an OHLC Charts plots a symbol that represents two ranges: the highest and lowest prices traded, and also the opening and closing price on that single time period (for example in a day). On the range symbol, the high and low price ranges are represented by the length of the main vertical line. The open and close prices are represented by the vertical positioning of tick-marks that appear on the left (representing the open price) and on right (representing the close price) sides of the high-low vertical line.\n",
    "\n",
    "Colour can be assigned to each OHLC Chart symbol, to distinguish whether the market is \"bullish\" (the closing price is higher then it opened) or \"bearish\" (the closing price is lower then it opened).\n",
    "\n",
    "<img src=\"https://datavizcatalogue.com/methods/images/anatomy/SVG/OHLC_chart.svg\">\n",
    "\n",
    "Source: [Datavizcatalogue](https://datavizcatalogue.com/methods/OHLC_chart.html)"
   ]
  },
  {
   "cell_type": "code",
   "execution_count": null,
   "metadata": {
    "_uuid": "cda7c35e8689a4638f0cfda0cc280bc670733993"
   },
   "outputs": [],
   "source": [
    "# OHLC chart of June 2008\n",
    "trace = go.Ohlc(x=sel['06-2008'].index,\n",
    "                open=sel['06-2008'].Open,\n",
    "                high=sel['06-2008'].High,\n",
    "                low=sel['06-2008'].Low,\n",
    "                close=sel['06-2008'].Close)\n",
    "data = [trace]\n",
    "iplot(data, filename='simple_ohlc')"
   ]
  },
  {
   "cell_type": "code",
   "execution_count": null,
   "metadata": {
    "_uuid": "569adf188c009c34651a9caf832f0834dea20088"
   },
   "outputs": [],
   "source": [
    "# OHLC chart of 2008\n",
    "trace = go.Ohlc(x=sel['2008'].index,\n",
    "                open=sel['2008'].Open,\n",
    "                high=sel['2008'].High,\n",
    "                low=sel['2008'].Low,\n",
    "                close=sel['2008'].Close)\n",
    "data = [trace]\n",
    "iplot(data, filename='simple_ohlc')"
   ]
  },
  {
   "cell_type": "code",
   "execution_count": null,
   "metadata": {
    "_uuid": "0a3394814b5dab1c9f1104b0058366cc39979db2"
   },
   "outputs": [],
   "source": [
    "# OHLC chart of 2008\n",
    "trace = go.Ohlc(x=sel.index,\n",
    "                open=sel.Open,\n",
    "                high=sel.High,\n",
    "                low=sel.Low,\n",
    "                close=sel.Close)\n",
    "data = [trace]\n",
    "iplot(data, filename='simple_ohlc')"
   ]
  },
  {
   "cell_type": "markdown",
   "metadata": {
    "_uuid": "93363b9969f9ec48dd95b0a33201ea00d8f6bd0b"
   },
   "source": [
    " ## <a id='2.7'>2.7 Candlestick charts</a>\n",
    "This type of chart is used as a trading tool to visualise and analyse the price movements over time for securities, derivatives, currencies, stocks, bonds, commodities, etc. Although the symbols used in Candlestick Charts resemble a Box Plot, they function differently and therefore, are not to be confused with one another.\n",
    "\n",
    "Candlestick Charts display multiple bits of price information such as the open price, close price, highest price and lowest price through the use of candlestick-like symbols. Each symbol represents the compressed trading activity for a single time period (a minute, hour, day, month, etc). Each Candlestick symbol is plotted along a time scale on the x-axis, to show the trading activity over time.\n",
    "\n",
    "The main rectangle in the symbol is known as the real body, which is used to display the range between the open and close price of that time period. While the lines extending from the bottom and top of the real body is known as the lower and upper shadows (or wick). Each shadow represents the highest or lowest price traded during the time period represented. When the market is Bullish (the closing price is higher than it opened), then the body is coloured typically white or green. But when the market is Bearish (the closing price is lower than it opened), then the body is usually coloured either black or red.\n",
    "\n",
    "<img src=\"https://datavizcatalogue.com/methods/images/anatomy/SVG/candlestick_chart.svg\">\n",
    "\n",
    "Candlestick Charts are great for detecting and predicting market trends over time and are useful for interpreting the day-to-day sentiment of the market, through each candlestick symbol's colouring and shape. For example, the longer the body is, the more intense the selling or buying pressure is. While, a very short body, would indicate that there is very little price movement in that time period and represents consolidation.\n",
    "\n",
    "Candlestick Charts help reveal the market psychology (the fear and greed experienced by sellers and buyers) through the various indicators, such as shape and colour, but also by the many identifiable patterns that can be found in Candlestick Charts. In total, there are 42 recognised patterns that are divided into simple and complex patterns. These patterns found in Candlestick Charts are useful for displaying price relationships and can be used for predicting the possible future movement of the market. You can find a list and description of each pattern here.\n",
    "\n",
    "Please bear in mind, that Candlestick Charts don't express the events taking place between the open and close price - only the relationship between the two prices. So you can't tell how volatile trading was within that single time period.\n",
    "\n",
    "Source: [Datavizcatalogue](https://datavizcatalogue.com/methods/candlestick_chart.html)"
   ]
  },
  {
   "cell_type": "code",
   "execution_count": null,
   "metadata": {
    "_uuid": "ab77825a5b940f2db8795af0871c769bed6a3048"
   },
   "outputs": [],
   "source": [
    "# Candlestick chart of march 2008\n",
    "trace = go.Candlestick(x=sel['03-2008'].index,\n",
    "                open=sel['03-2008'].Open,\n",
    "                high=sel['03-2008'].High,\n",
    "                low=sel['03-2008'].Low,\n",
    "                close=sel['03-2008'].Close)\n",
    "data = [trace]\n",
    "iplot(data, filename='simple_candlestick')"
   ]
  },
  {
   "cell_type": "code",
   "execution_count": null,
   "metadata": {
    "_uuid": "d022e0d965c6a65e5d79807e22f81ad38e42ecce"
   },
   "outputs": [],
   "source": [
    "# Candlestick chart of 2000\n",
    "trace = go.Candlestick(x=sel['2000'].index,\n",
    "                open=sel['2000'].Open,\n",
    "                high=sel['2000'].High,\n",
    "                low=sel['2000'].Low,\n",
    "                close=sel['2000'].Close)\n",
    "data = [trace]\n",
    "iplot(data, filename='simple_candlestick')"
   ]
  },
  {
   "cell_type": "code",
   "execution_count": null,
   "metadata": {
    "_uuid": "d7d995be388df5b93f33818953deb429568341e7"
   },
   "outputs": [],
   "source": [
    "# Candlestick chart of 1988-2022\n",
    "trace = go.Candlestick(x=sel.index,\n",
    "                open=sel.Open,\n",
    "                high=sel.High,\n",
    "                low=sel.Low,\n",
    "                close=sel.Close)\n",
    "data = [trace]\n",
    "iplot(data, filename='simple_candlestick')"
   ]
  },
  {
   "cell_type": "markdown",
   "metadata": {
    "_uuid": "61ef0d5be5a9c6ab63c0f3e432deae0166530bd0",
    "collapsed": true
   },
   "source": [
    "# <a id='3'>3. Time series decomposition and Random walks</a>"
   ]
  },
  {
   "cell_type": "markdown",
   "metadata": {
    "_uuid": "29a6016f3d75811e47db9d727497f06b5d194113"
   },
   "source": [
    "## <a id='3.1'>3.1. Trends, seasonality and noise</a>\n",
    "These are the components of a time series\n",
    "* Trend - Consistent upwards or downwards slope of a time series\n",
    "* Seasonality - Clear periodic pattern of a time series(like sine funtion)\n",
    "* Noise - Outliers or missing values"
   ]
  },
  {
   "cell_type": "code",
   "execution_count": null,
   "metadata": {
    "_uuid": "55da1ae309826244f5aeeb18d293d2512535619d"
   },
   "outputs": [],
   "source": [
    "# Let's take Google stocks High for this\n",
    "sel[\"High\"].plot(figsize=(16,8))"
   ]
  },
  {
   "cell_type": "code",
   "execution_count": null,
   "metadata": {
    "_uuid": "eb9a833bf7f58467c00008560509a4ce6905ea92"
   },
   "outputs": [],
   "source": [
    "# Now, for decomposition...\n",
    "rcParams['figure.figsize'] = 11, 9\n",
    "decomposed_sel_volume = sm.tsa.seasonal_decompose(sel[\"High\"],freq=360) # The frequncy is annual\n",
    "figure = decomposed_sel_volume.plot()\n",
    "plt.show()"
   ]
  },
  {
   "cell_type": "markdown",
   "metadata": {
    "_uuid": "da19a9d1d683224c227654f28c1f53432953781c"
   },
   "source": [
    "### Augmented Dickey-Fuller test\n",
    "An augmented Dickey–Fuller test (ADF) tests the null hypothesis that a unit root is present in a time series sample. It is basically Dickey-Fuller test with more lagged changes on RHS."
   ]
  },
  {
   "cell_type": "code",
   "execution_count": null,
   "metadata": {
    "_uuid": "c43ff44679e19f726cbca75a99d3b0c8e828cdca"
   },
   "outputs": [],
   "source": [
    "# Augmented Dickey-Fuller test on volume of google and microsoft stocks \n",
    "adf = adfuller(sel[\"Volume\"])\n",
    "print(\"p-value of microsoft: {}\".format(float(adf[1])))\n"
   ]
  },
  {
   "cell_type": "markdown",
   "metadata": {
    "_uuid": "d81b28d7326841f6056eac3eb1e6e26e59b3809c"
   },
   "source": [
    "##### As microsoft has p-value 2.3953198043568264e-09 which is less than 0.05, null hypothesis is rejected and this is not a random walk."
   ]
  },
  {
   "cell_type": "code",
   "execution_count": null,
   "metadata": {
    "_uuid": "aa6661f017536cfc6c69d8b1a15316a6e37ca200"
   },
   "outputs": [],
   "source": [
    "# The original non-stationary plot\n",
    "decomposed_sel_volume.trend.plot()"
   ]
  },
  {
   "cell_type": "code",
   "execution_count": null,
   "metadata": {
    "_uuid": "348f09fd4cb0c9ba057930c502786aaeda80452d"
   },
   "outputs": [],
   "source": [
    "# The new stationary plot\n",
    "decomposed_sel_volume.trend.diff().plot()"
   ]
  },
  {
   "cell_type": "markdown",
   "metadata": {
    "_uuid": "0b163bbf7c903aa7f82d0dae381f019b572e27f5"
   },
   "source": [
    "## Prediction using ARMA models\n",
    "I am not simulating any model because it's quite similar to AR and MA models. Just  forecasting and predictions for this one."
   ]
  },
  {
   "cell_type": "code",
   "execution_count": null,
   "metadata": {
    "_uuid": "6b9f4f218af096d41cbeafc00bf15e1d6581c6c3"
   },
   "outputs": [],
   "source": [
    "# Forecasting and predicting microsoft stocks volume\n",
    "model = ARMA(sel[\"Volume\"].diff().iloc[1:].values, order=(3,3))\n",
    "result = model.fit()\n",
    "print(result.summary())\n",
    "print(\"μ={}, ϕ={}, θ={}\".format(result.params[0],result.params[1],result.params[2]))\n",
    "result.plot_predict(start=1000, end=1100)\n",
    "plt.show()"
   ]
  },
  {
   "cell_type": "code",
   "execution_count": null,
   "metadata": {
    "_uuid": "b6a1b9a4635ee4d6ad382010f066d229daebbf2c"
   },
   "outputs": [],
   "source": [
    "rmse = math.sqrt(mean_squared_error(sel[\"Volume\"].diff().iloc[1000:1101].values, result.predict(start=1000,end=1100)))\n",
    "print(\"The root mean squared error is {}.\".format(rmse))"
   ]
  },
  {
   "cell_type": "markdown",
   "metadata": {
    "_uuid": "1c337a7fb003b98285a0c3157c0f48742d3a1b9e"
   },
   "source": [
    "ARMA model shows much better results than AR and MA models."
   ]
  },
  {
   "cell_type": "markdown",
   "metadata": {
    "_uuid": "1f87feaedef7e790890e271e86c4fa2e71c05367"
   },
   "source": [
    "## Prediction using ARIMA model"
   ]
  },
  {
   "cell_type": "code",
   "execution_count": null,
   "metadata": {
    "_uuid": "d80a45b8c911f346891534fe2f1c6d519907a86c"
   },
   "outputs": [],
   "source": [
    "# Predicting the microsoft stocks volume\n",
    "rcParams['figure.figsize'] = 16, 6\n",
    "model = ARIMA(sel[\"Volume\"].diff().iloc[1:].values, order=(2,1,0))\n",
    "result = model.fit()\n",
    "print(result.summary())\n",
    "result.plot_predict(start=700, end=1000)\n",
    "plt.show()"
   ]
  },
  {
   "cell_type": "code",
   "execution_count": null,
   "metadata": {
    "_uuid": "feef92dc9eabf930b947f64d46dc90b91afc49a4"
   },
   "outputs": [],
   "source": [
    "rmse = math.sqrt(mean_squared_error(sel[\"Volume\"].diff().iloc[700:1001].values, result.predict(start=700,end=1000)))\n",
    "print(\"The root mean squared error is {}.\".format(rmse))"
   ]
  },
  {
   "cell_type": "markdown",
   "metadata": {
    "_uuid": "99fe66a0b2efcc111ff3c42ef48fac0b08af4c8a"
   },
   "source": [
    "Taking the slight lag into account, this is a fine model."
   ]
  },
  {
   "cell_type": "markdown",
   "metadata": {
    "_uuid": "1c3b1f6da7f472fcc8275a23d9f9fde20a89fc3e"
   },
   "source": [
    "## <a id='4.5'>4.5 VAR models</a>\n",
    "Vector autoregression (VAR) is a stochastic process model used to capture the linear interdependencies among multiple time series. VAR models generalize the univariate autoregressive model (AR model) by allowing for more than one evolving variable. All variables in a VAR enter the model in the same way: each variable has an equation explaining its evolution based on its own lagged values, the lagged values of the other model variables, and an error term. VAR modeling does not require as much knowledge about the forces influencing a variable as do structural models with simultaneous equations: The only prior knowledge required is a list of variables which can be hypothesized to affect each other intertemporally.\n",
    "\n",
    "<img src=\"http://gdurl.com/VvRm\">"
   ]
  },
  {
   "cell_type": "code",
   "execution_count": null,
   "metadata": {
    "_uuid": "c7ee4df651be1857f5eb08666ddd30a64953e20a",
    "scrolled": false
   },
   "outputs": [],
   "source": [
    "# Predicting closing price of Google and sel\n",
    "train_sample = pd.concat([google[\"Close\"].diff().iloc[1:],sel[\"Close\"].diff().iloc[1:]],axis=1)\n",
    "model = sm.tsa.VARMAX(train_sample,order=(2,1),trend='c')\n",
    "result = model.fit(maxiter=1000,disp=False)\n",
    "print(result.summary())\n",
    "predicted_result = result.predict(start=0, end=1000)\n",
    "result.plot_diagnostics()\n",
    "# calculating error\n",
    "rmse = math.sqrt(mean_squared_error(train_sample.iloc[1:1002].values, predicted_result.values))\n",
    "print(\"The root mean squared error is {}.\".format(rmse))"
   ]
  },
  {
   "cell_type": "markdown",
   "metadata": {
    "_uuid": "aa056e8b4f0c457639f5cfb01cfa6f9d6b1fb486"
   },
   "source": [
    "## <a id='4.6.1'>4.6.1 SARIMA models</a>\n",
    "SARIMA models are useful for modeling seasonal time series, in which the mean and other statistics for a given season are not stationary across the years. The SARIMA model defined constitutes a straightforward extension of the nonseasonal autoregressive-moving average (ARMA) and autoregressive integrated moving average (ARIMA) models presented"
   ]
  },
  {
   "cell_type": "code",
   "execution_count": null,
   "metadata": {
    "_uuid": "8441c5af41b070d19fd711dee43b118855676862"
   },
   "outputs": [],
   "source": [
    "# Predicting closing price of Google'\n",
    "train_sample = sel[\"Close\"].diff().iloc[1:].values\n",
    "model = sm.tsa.SARIMAX(train_sample,order=(4,0,4),trend='c')\n",
    "result = model.fit(maxiter=1000,disp=False)\n",
    "print(result.summary())\n",
    "predicted_result = result.predict(start=0, end=500)\n",
    "result.plot_diagnostics()\n",
    "# calculating error\n",
    "rmse = math.sqrt(mean_squared_error(train_sample[1:502], predicted_result))\n",
    "print(\"The root mean squared error is {}.\".format(rmse))"
   ]
  },
  {
   "cell_type": "code",
   "execution_count": null,
   "metadata": {
    "_uuid": "6d9a2a2fa5762719f770406f9f37fb04af4cb384"
   },
   "outputs": [],
   "source": [
    "plt.plot(train_sample[1:502],color='red')\n",
    "plt.plot(predicted_result,color='blue')\n",
    "plt.legend(['Actual','Predicted'])\n",
    "plt.title('sel Closing prices')\n",
    "plt.show()"
   ]
  },
  {
   "cell_type": "code",
   "execution_count": null,
   "metadata": {
    "_uuid": "eccfc1ab3a1ffec0f739f09c3c52e9a4e40e93c0"
   },
   "outputs": [],
   "source": [
    "# Predicting closing price of sel'\n",
    "train_sample = sel[\"Close\"].diff().iloc[1:].values\n",
    "model = sm.tsa.UnobservedComponents(train_sample,'local level')\n",
    "result = model.fit(maxiter=1000,disp=False)\n",
    "print(result.summary())\n",
    "predicted_result = result.predict(start=0, end=500)\n",
    "result.plot_diagnostics()\n",
    "# calculating error\n",
    "rmse = math.sqrt(mean_squared_error(train_sample[1:502], predicted_result))\n",
    "print(\"The root mean squared error is {}.\".format(rmse))"
   ]
  },
  {
   "cell_type": "code",
   "execution_count": null,
   "metadata": {
    "_uuid": "5ef27e360e92c6603a80ab4072c8101416de04a3"
   },
   "outputs": [],
   "source": [
    "plt.plot(train_sample[1:502],color='red')\n",
    "plt.plot(predicted_result,color='blue')\n",
    "plt.legend(['Actual','Predicted'])\n",
    "plt.title('Google Closing prices')\n",
    "plt.show()"
   ]
  },
  {
   "cell_type": "markdown",
   "metadata": {
    "_uuid": "4d041bf48f3f835d8b9a397f066c21577c0cd235"
   },
   "source": [
    "## <a id='4.6.3'>4.6.3 Dynamic Factor models</a>\n",
    "Dynamic-factor models are flexible models for multivariate time series in which the observed endogenous variables are linear functions of exogenous covariates and unobserved factors, which have a vector autoregressive structure. The unobserved factors may also be a function of exogenous covariates. The disturbances in the equations for the dependent variables may be autocorrelated."
   ]
  },
  {
   "cell_type": "code",
   "execution_count": null,
   "metadata": {
    "_uuid": "d6d0a1d158db53132b9b0406ca971da7820af338"
   },
   "outputs": [],
   "source": [
    "# Predicting closing price of Google and sel\n",
    "train_sample = pd.concat([google[\"Close\"].diff().iloc[1:],sel[\"Close\"].diff().iloc[1:]],axis=1)\n",
    "model = sm.tsa.DynamicFactor(train_sample, k_factors=1, factor_order=2)\n",
    "result = model.fit(maxiter=1000,disp=False)\n",
    "print(result.summary())\n",
    "predicted_result = result.predict(start=0, end=1000)\n",
    "result.plot_diagnostics()\n",
    "# calculating error\n",
    "rmse = math.sqrt(mean_squared_error(train_sample.iloc[1:1002].values, predicted_result.values))\n",
    "print(\"The root mean squared error is {}.\".format(rmse))"
   ]
  },
  {
   "cell_type": "code",
   "execution_count": null,
   "metadata": {},
   "outputs": [],
   "source": []
  }
 ],
 "metadata": {
  "kernelspec": {
   "display_name": "Python 3 (ipykernel)",
   "language": "python",
   "name": "python3"
  },
  "language_info": {
   "codemirror_mode": {
    "name": "ipython",
    "version": 3
   },
   "file_extension": ".py",
   "mimetype": "text/x-python",
   "name": "python",
   "nbconvert_exporter": "python",
   "pygments_lexer": "ipython3",
   "version": "3.9.7"
  }
 },
 "nbformat": 4,
 "nbformat_minor": 1
}
