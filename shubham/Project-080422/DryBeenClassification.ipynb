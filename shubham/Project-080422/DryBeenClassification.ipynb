{
 "cells": [
  {
   "cell_type": "markdown",
   "id": "c1361d61",
   "metadata": {},
   "source": [
    "# DryBeenClassification"
   ]
  },
  {
   "cell_type": "code",
   "execution_count": null,
   "id": "902681de",
   "metadata": {},
   "outputs": [],
   "source": []
  },
  {
   "cell_type": "code",
   "execution_count": 1,
   "id": "a04bc95e",
   "metadata": {},
   "outputs": [],
   "source": [
    "#import Important liabraries\n",
    "import pandas as pd\n",
    "import numpy as np"
   ]
  },
  {
   "cell_type": "code",
   "execution_count": 2,
   "id": "b4adab50",
   "metadata": {},
   "outputs": [
    {
     "name": "stdout",
     "output_type": "stream",
     "text": [
      "original dataset shape:::: (13611, 17)\n",
      "Training dataset new shape and length ::: (8710, 17)\n",
      "Testing dataset new shape and length ::: (2723, 17)\n",
      "Validation dataset new shape and length ::: (2178, 17)\n"
     ]
    }
   ],
   "source": [
    "#Read Downloaded dataset\n",
    "df = pd.read_excel('Dry_Bean_Dataset.xlsx')\n",
    "\n",
    "#findin the shape of dataset\n",
    "print(\"original dataset shape::::\",df.shape)\n",
    "\n",
    "#use sklearn model to split dataset into training and test\n",
    "from sklearn.model_selection import train_test_split\n",
    "\n",
    "train_data, test_data = train_test_split(df, test_size=0.20, random_state=42)\n",
    "\n",
    "#splotting train_data into train and validation datasets seperatly\n",
    "\n",
    "train2, val = train_test_split(train_data, test_size=0.20, random_state=42)\n",
    "\n",
    "print(\"Training dataset new shape and length :::\", train2.shape)\n",
    "print(\"Testing dataset new shape and length :::\", test_data.shape)\n",
    "print(\"Validation dataset new shape and length :::\", val.shape)\n"
   ]
  },
  {
   "cell_type": "code",
   "execution_count": 3,
   "id": "602a79c5",
   "metadata": {},
   "outputs": [
    {
     "name": "stdout",
     "output_type": "stream",
     "text": [
      "converted data into dictionary format...>>>>>\n"
     ]
    }
   ],
   "source": [
    "#'dict', 'list', 'series', 'split', 'records', 'index' \n",
    "#convet all datasets in to dictionary for insertion into mongodb.\n",
    "\n",
    "train_data = train2.to_dict(orient='records')\n",
    "test_data = test_data.to_dict(orient='records')\n",
    "val_data=val.to_dict(orient='records')\n",
    "\n",
    "print(\"converted data into dictionary format...>>>>>\")\n"
   ]
  },
  {
   "cell_type": "code",
   "execution_count": 5,
   "id": "e35ab06d",
   "metadata": {},
   "outputs": [
    {
     "name": "stdout",
     "output_type": "stream",
     "text": [
      "all data is inserted into Mongodb database>>>>>>>>>>>>..\n"
     ]
    }
   ],
   "source": [
    "#import datasets into Mongo-db\n",
    "import pymongo\n",
    "\n",
    "#create connection to mongodb local host at ipadd:27017\n",
    "myclient = pymongo.MongoClient('mongodb://localhost:27017/')\n",
    "\n",
    "#create database in mongo db\n",
    "mydb = myclient['project080422']\n",
    "\n",
    "#create collections in mydb databases\n",
    "mycol_train = mydb['train_data']\n",
    "mycol_test = mydb['test_data']\n",
    "mycol_val = mydb['validation_data']\n",
    "\n",
    "#Insert data into collection\n",
    "train = mycol_train.insert_many(train_data)\n",
    "test = mycol_test.insert_many(test_data)\n",
    "val = mycol_val.insert_many(val_data)\n",
    "print(\"all data is inserted into Mongodb database>>>>>>>>>>>>..\")"
   ]
  },
  {
   "cell_type": "markdown",
   "id": "093ec89a",
   "metadata": {},
   "source": [
    "## Export data from database to CSV for training"
   ]
  },
  {
   "cell_type": "code",
   "execution_count": 9,
   "id": "b77bc6bc",
   "metadata": {},
   "outputs": [
    {
     "name": "stdout",
     "output_type": "stream",
     "text": [
      "['Images', 'MachineLearning', 'WebScraching', 'admin', 'config', 'database', 'local', 'project080422', 'shubhamdata']\n"
     ]
    }
   ],
   "source": [
    "#printing list of databased present in mongodb\n",
    "print(myclient.list_database_names())"
   ]
  },
  {
   "cell_type": "code",
   "execution_count": 8,
   "id": "63eff0d0",
   "metadata": {},
   "outputs": [
    {
     "name": "stdout",
     "output_type": "stream",
     "text": [
      "['test_data', 'train_data', 'validation_data']\n"
     ]
    }
   ],
   "source": [
    "#printing list of of collections presert in respected databse (project080422).\n",
    "print(mydb.list_collection_names())"
   ]
  },
  {
   "cell_type": "code",
   "execution_count": 16,
   "id": "ee9151dc",
   "metadata": {},
   "outputs": [],
   "source": [
    "allrecords = mydb.train_data.find()\n",
    "list_courser = list(allrecords)"
   ]
  },
  {
   "cell_type": "code",
   "execution_count": 19,
   "id": "3b256225",
   "metadata": {},
   "outputs": [],
   "source": [
    "#creating dataframe from fetched data from database and droping \"_id \" columns from database.\n",
    "df = pd.DataFrame(list_courser).drop('_id',axis=1)\n",
    "\n",
    "#converting this dataframe to .csv file for better training.\n",
    "df.to_csv(\"Train_data.csv\")\n",
    "print(\"data is downloaded from batabase and converted CSV>.....>>>>>>>>>>\")"
   ]
  },
  {
   "cell_type": "markdown",
   "id": "c69f6c46",
   "metadata": {},
   "source": [
    "## Reading data form csv file"
   ]
  },
  {
   "cell_type": "code",
   "execution_count": 31,
   "id": "73b904c5",
   "metadata": {},
   "outputs": [],
   "source": [
    "#Reading data form csv file\n",
    "df = pd.read_csv('Train_data.csv').drop('Unnamed: 0', axis=1)"
   ]
  },
  {
   "cell_type": "markdown",
   "id": "c7efecdc",
   "metadata": {},
   "source": [
    "## Data preprocessing"
   ]
  },
  {
   "cell_type": "code",
   "execution_count": 42,
   "id": "570dbf78",
   "metadata": {},
   "outputs": [],
   "source": [
    "#impotr liabraries for data visualization and pre processing\n",
    "import matplotlib.pyplot as plt\n",
    "import seaborn as sns\n",
    "import warnings\n",
    "warnings.filterwarnings('ignore')\n",
    "%matplotlib inline"
   ]
  },
  {
   "cell_type": "code",
   "execution_count": 43,
   "id": "ba1d52d7",
   "metadata": {},
   "outputs": [
    {
     "data": {
      "text/plain": [
       "Index(['Area', 'Perimeter', 'MajorAxisLength', 'MinorAxisLength',\n",
       "       'AspectRation', 'Eccentricity', 'ConvexArea', 'EquivDiameter', 'Extent',\n",
       "       'Solidity', 'roundness', 'Compactness', 'ShapeFactor1', 'ShapeFactor2',\n",
       "       'ShapeFactor3', 'ShapeFactor4', 'Class'],\n",
       "      dtype='object')"
      ]
     },
     "execution_count": 43,
     "metadata": {},
     "output_type": "execute_result"
    }
   ],
   "source": [
    "df.columns"
   ]
  },
  {
   "cell_type": "code",
   "execution_count": 44,
   "id": "f804c646",
   "metadata": {},
   "outputs": [
    {
     "data": {
      "text/plain": [
       "<matplotlib.collections.PathCollection at 0x18e068ce1c0>"
      ]
     },
     "execution_count": 44,
     "metadata": {},
     "output_type": "execute_result"
    },
    {
     "data": {
      "image/png": "[encoded data removed]",
      "text/plain": [
       "<Figure size 432x288 with 1 Axes>"
      ]
     },
     "metadata": {
      "needs_background": "light"
     },
     "output_type": "display_data"
    }
   ],
   "source": [
    "plt.scatter(df['Perimeter'],df['Class'])"
   ]
  },
  {
   "cell_type": "code",
   "execution_count": 45,
   "id": "8304024e",
   "metadata": {},
   "outputs": [
    {
     "data": {
      "image/png": "[encoded data removed]",
      "text/plain": [
       "<Figure size 432x288 with 1 Axes>"
      ]
     },
     "metadata": {
      "needs_background": "light"
     },
     "output_type": "display_data"
    }
   ],
   "source": [
    "sns.violinplot(df['Perimeter'],df['Class'])\n",
    "plt.show()"
   ]
  },
  {
   "cell_type": "code",
   "execution_count": 46,
   "id": "59a7f419",
   "metadata": {},
   "outputs": [
    {
     "data": {
      "text/html": [
       "<div>\n",
       "<style scoped>\n",
       "    .dataframe tbody tr th:only-of-type {\n",
       "        vertical-align: middle;\n",
       "    }\n",
       "\n",
       "    .dataframe tbody tr th {\n",
       "        vertical-align: top;\n",
       "    }\n",
       "\n",
       "    .dataframe thead th {\n",
       "        text-align: right;\n",
       "    }\n",
       "</style>\n",
       "<table border=\"1\" class=\"dataframe\">\n",
       "  <thead>\n",
       "    <tr style=\"text-align: right;\">\n",
       "      <th></th>\n",
       "      <th>Area</th>\n",
       "      <th>Perimeter</th>\n",
       "      <th>MajorAxisLength</th>\n",
       "      <th>MinorAxisLength</th>\n",
       "      <th>AspectRation</th>\n",
       "      <th>Eccentricity</th>\n",
       "      <th>ConvexArea</th>\n",
       "      <th>EquivDiameter</th>\n",
       "      <th>Extent</th>\n",
       "      <th>Solidity</th>\n",
       "      <th>roundness</th>\n",
       "      <th>Compactness</th>\n",
       "      <th>ShapeFactor1</th>\n",
       "      <th>ShapeFactor2</th>\n",
       "      <th>ShapeFactor3</th>\n",
       "      <th>ShapeFactor4</th>\n",
       "    </tr>\n",
       "  </thead>\n",
       "  <tbody>\n",
       "    <tr>\n",
       "      <th>Area</th>\n",
       "      <td>1.000000</td>\n",
       "      <td>0.966724</td>\n",
       "      <td>0.932186</td>\n",
       "      <td>0.952480</td>\n",
       "      <td>0.242061</td>\n",
       "      <td>0.266319</td>\n",
       "      <td>0.999942</td>\n",
       "      <td>0.985060</td>\n",
       "      <td>0.061515</td>\n",
       "      <td>-0.182034</td>\n",
       "      <td>-0.355289</td>\n",
       "      <td>-0.267557</td>\n",
       "      <td>-0.849571</td>\n",
       "      <td>-0.642034</td>\n",
       "      <td>-0.271441</td>\n",
       "      <td>-0.347281</td>\n",
       "    </tr>\n",
       "    <tr>\n",
       "      <th>Perimeter</th>\n",
       "      <td>0.966724</td>\n",
       "      <td>1.000000</td>\n",
       "      <td>0.977550</td>\n",
       "      <td>0.914257</td>\n",
       "      <td>0.385310</td>\n",
       "      <td>0.389285</td>\n",
       "      <td>0.967749</td>\n",
       "      <td>0.991407</td>\n",
       "      <td>-0.014747</td>\n",
       "      <td>-0.292296</td>\n",
       "      <td>-0.545499</td>\n",
       "      <td>-0.406041</td>\n",
       "      <td>-0.866846</td>\n",
       "      <td>-0.769582</td>\n",
       "      <td>-0.407387</td>\n",
       "      <td>-0.422803</td>\n",
       "    </tr>\n",
       "    <tr>\n",
       "      <th>MajorAxisLength</th>\n",
       "      <td>0.932186</td>\n",
       "      <td>0.977550</td>\n",
       "      <td>1.000000</td>\n",
       "      <td>0.828234</td>\n",
       "      <td>0.549451</td>\n",
       "      <td>0.539530</td>\n",
       "      <td>0.933017</td>\n",
       "      <td>0.962156</td>\n",
       "      <td>-0.072159</td>\n",
       "      <td>-0.272549</td>\n",
       "      <td>-0.593126</td>\n",
       "      <td>-0.566682</td>\n",
       "      <td>-0.777369</td>\n",
       "      <td>-0.860344</td>\n",
       "      <td>-0.566287</td>\n",
       "      <td>-0.474376</td>\n",
       "    </tr>\n",
       "    <tr>\n",
       "      <th>MinorAxisLength</th>\n",
       "      <td>0.952480</td>\n",
       "      <td>0.914257</td>\n",
       "      <td>0.828234</td>\n",
       "      <td>1.000000</td>\n",
       "      <td>-0.006333</td>\n",
       "      <td>0.020265</td>\n",
       "      <td>0.952254</td>\n",
       "      <td>0.949281</td>\n",
       "      <td>0.152028</td>\n",
       "      <td>-0.142826</td>\n",
       "      <td>-0.210594</td>\n",
       "      <td>-0.016892</td>\n",
       "      <td>-0.947131</td>\n",
       "      <td>-0.476163</td>\n",
       "      <td>-0.020872</td>\n",
       "      <td>-0.258536</td>\n",
       "    </tr>\n",
       "    <tr>\n",
       "      <th>AspectRation</th>\n",
       "      <td>0.242061</td>\n",
       "      <td>0.385310</td>\n",
       "      <td>0.549451</td>\n",
       "      <td>-0.006333</td>\n",
       "      <td>1.000000</td>\n",
       "      <td>0.924289</td>\n",
       "      <td>0.243700</td>\n",
       "      <td>0.304100</td>\n",
       "      <td>-0.372584</td>\n",
       "      <td>-0.267522</td>\n",
       "      <td>-0.764720</td>\n",
       "      <td>-0.987684</td>\n",
       "      <td>0.019730</td>\n",
       "      <td>-0.836788</td>\n",
       "      <td>-0.978598</td>\n",
       "      <td>-0.444994</td>\n",
       "    </tr>\n",
       "    <tr>\n",
       "      <th>Eccentricity</th>\n",
       "      <td>0.266319</td>\n",
       "      <td>0.389285</td>\n",
       "      <td>0.539530</td>\n",
       "      <td>0.020265</td>\n",
       "      <td>0.924289</td>\n",
       "      <td>1.000000</td>\n",
       "      <td>0.268175</td>\n",
       "      <td>0.317166</td>\n",
       "      <td>-0.322403</td>\n",
       "      <td>-0.298401</td>\n",
       "      <td>-0.719381</td>\n",
       "      <td>-0.970301</td>\n",
       "      <td>0.017869</td>\n",
       "      <td>-0.857655</td>\n",
       "      <td>-0.981034</td>\n",
       "      <td>-0.446437</td>\n",
       "    </tr>\n",
       "    <tr>\n",
       "      <th>ConvexArea</th>\n",
       "      <td>0.999942</td>\n",
       "      <td>0.967749</td>\n",
       "      <td>0.933017</td>\n",
       "      <td>0.952254</td>\n",
       "      <td>0.243700</td>\n",
       "      <td>0.268175</td>\n",
       "      <td>1.000000</td>\n",
       "      <td>0.985371</td>\n",
       "      <td>0.059844</td>\n",
       "      <td>-0.191488</td>\n",
       "      <td>-0.359951</td>\n",
       "      <td>-0.269493</td>\n",
       "      <td>-0.849669</td>\n",
       "      <td>-0.643730</td>\n",
       "      <td>-0.273403</td>\n",
       "      <td>-0.353579</td>\n",
       "    </tr>\n",
       "    <tr>\n",
       "      <th>EquivDiameter</th>\n",
       "      <td>0.985060</td>\n",
       "      <td>0.991407</td>\n",
       "      <td>0.962156</td>\n",
       "      <td>0.949281</td>\n",
       "      <td>0.304100</td>\n",
       "      <td>0.317166</td>\n",
       "      <td>0.985371</td>\n",
       "      <td>1.000000</td>\n",
       "      <td>0.034623</td>\n",
       "      <td>-0.218680</td>\n",
       "      <td>-0.433765</td>\n",
       "      <td>-0.327132</td>\n",
       "      <td>-0.894301</td>\n",
       "      <td>-0.715356</td>\n",
       "      <td>-0.329614</td>\n",
       "      <td>-0.385205</td>\n",
       "    </tr>\n",
       "    <tr>\n",
       "      <th>Extent</th>\n",
       "      <td>0.061515</td>\n",
       "      <td>-0.014747</td>\n",
       "      <td>-0.072159</td>\n",
       "      <td>0.152028</td>\n",
       "      <td>-0.372584</td>\n",
       "      <td>-0.322403</td>\n",
       "      <td>0.059844</td>\n",
       "      <td>0.034623</td>\n",
       "      <td>1.000000</td>\n",
       "      <td>0.183942</td>\n",
       "      <td>0.342799</td>\n",
       "      <td>0.356687</td>\n",
       "      <td>-0.146397</td>\n",
       "      <td>0.237456</td>\n",
       "      <td>0.350210</td>\n",
       "      <td>0.143211</td>\n",
       "    </tr>\n",
       "    <tr>\n",
       "      <th>Solidity</th>\n",
       "      <td>-0.182034</td>\n",
       "      <td>-0.292296</td>\n",
       "      <td>-0.272549</td>\n",
       "      <td>-0.142826</td>\n",
       "      <td>-0.267522</td>\n",
       "      <td>-0.298401</td>\n",
       "      <td>-0.191488</td>\n",
       "      <td>-0.218680</td>\n",
       "      <td>0.183942</td>\n",
       "      <td>1.000000</td>\n",
       "      <td>0.612488</td>\n",
       "      <td>0.304272</td>\n",
       "      <td>0.143935</td>\n",
       "      <td>0.339551</td>\n",
       "      <td>0.308374</td>\n",
       "      <td>0.703533</td>\n",
       "    </tr>\n",
       "    <tr>\n",
       "      <th>roundness</th>\n",
       "      <td>-0.355289</td>\n",
       "      <td>-0.545499</td>\n",
       "      <td>-0.593126</td>\n",
       "      <td>-0.210594</td>\n",
       "      <td>-0.764720</td>\n",
       "      <td>-0.719381</td>\n",
       "      <td>-0.359951</td>\n",
       "      <td>-0.433765</td>\n",
       "      <td>0.342799</td>\n",
       "      <td>0.612488</td>\n",
       "      <td>1.000000</td>\n",
       "      <td>0.765961</td>\n",
       "      <td>0.232145</td>\n",
       "      <td>0.780051</td>\n",
       "      <td>0.760959</td>\n",
       "      <td>0.474713</td>\n",
       "    </tr>\n",
       "    <tr>\n",
       "      <th>Compactness</th>\n",
       "      <td>-0.267557</td>\n",
       "      <td>-0.406041</td>\n",
       "      <td>-0.566682</td>\n",
       "      <td>-0.016892</td>\n",
       "      <td>-0.987684</td>\n",
       "      <td>-0.970301</td>\n",
       "      <td>-0.269493</td>\n",
       "      <td>-0.327132</td>\n",
       "      <td>0.356687</td>\n",
       "      <td>0.304272</td>\n",
       "      <td>0.765961</td>\n",
       "      <td>1.000000</td>\n",
       "      <td>-0.005696</td>\n",
       "      <td>0.867314</td>\n",
       "      <td>0.998688</td>\n",
       "      <td>0.480836</td>\n",
       "    </tr>\n",
       "    <tr>\n",
       "      <th>ShapeFactor1</th>\n",
       "      <td>-0.849571</td>\n",
       "      <td>-0.866846</td>\n",
       "      <td>-0.777369</td>\n",
       "      <td>-0.947131</td>\n",
       "      <td>0.019730</td>\n",
       "      <td>0.017869</td>\n",
       "      <td>-0.849669</td>\n",
       "      <td>-0.894301</td>\n",
       "      <td>-0.146397</td>\n",
       "      <td>0.143935</td>\n",
       "      <td>0.232145</td>\n",
       "      <td>-0.005696</td>\n",
       "      <td>1.000000</td>\n",
       "      <td>0.475258</td>\n",
       "      <td>-0.004994</td>\n",
       "      <td>0.247025</td>\n",
       "    </tr>\n",
       "    <tr>\n",
       "      <th>ShapeFactor2</th>\n",
       "      <td>-0.642034</td>\n",
       "      <td>-0.769582</td>\n",
       "      <td>-0.860344</td>\n",
       "      <td>-0.476163</td>\n",
       "      <td>-0.836788</td>\n",
       "      <td>-0.857655</td>\n",
       "      <td>-0.643730</td>\n",
       "      <td>-0.715356</td>\n",
       "      <td>0.237456</td>\n",
       "      <td>0.339551</td>\n",
       "      <td>0.780051</td>\n",
       "      <td>0.867314</td>\n",
       "      <td>0.475258</td>\n",
       "      <td>1.000000</td>\n",
       "      <td>0.871154</td>\n",
       "      <td>0.526013</td>\n",
       "    </tr>\n",
       "    <tr>\n",
       "      <th>ShapeFactor3</th>\n",
       "      <td>-0.271441</td>\n",
       "      <td>-0.407387</td>\n",
       "      <td>-0.566287</td>\n",
       "      <td>-0.020872</td>\n",
       "      <td>-0.978598</td>\n",
       "      <td>-0.981034</td>\n",
       "      <td>-0.273403</td>\n",
       "      <td>-0.329614</td>\n",
       "      <td>0.350210</td>\n",
       "      <td>0.308374</td>\n",
       "      <td>0.760959</td>\n",
       "      <td>0.998688</td>\n",
       "      <td>-0.004994</td>\n",
       "      <td>0.871154</td>\n",
       "      <td>1.000000</td>\n",
       "      <td>0.480889</td>\n",
       "    </tr>\n",
       "    <tr>\n",
       "      <th>ShapeFactor4</th>\n",
       "      <td>-0.347281</td>\n",
       "      <td>-0.422803</td>\n",
       "      <td>-0.474376</td>\n",
       "      <td>-0.258536</td>\n",
       "      <td>-0.444994</td>\n",
       "      <td>-0.446437</td>\n",
       "      <td>-0.353579</td>\n",
       "      <td>-0.385205</td>\n",
       "      <td>0.143211</td>\n",
       "      <td>0.703533</td>\n",
       "      <td>0.474713</td>\n",
       "      <td>0.480836</td>\n",
       "      <td>0.247025</td>\n",
       "      <td>0.526013</td>\n",
       "      <td>0.480889</td>\n",
       "      <td>1.000000</td>\n",
       "    </tr>\n",
       "  </tbody>\n",
       "</table>\n",
       "</div>"
      ],
      "text/plain": [
       "                     Area  Perimeter  MajorAxisLength  MinorAxisLength  \\\n",
       "Area             1.000000   0.966724         0.932186         0.952480   \n",
       "Perimeter        0.966724   1.000000         0.977550         0.914257   \n",
       "MajorAxisLength  0.932186   0.977550         1.000000         0.828234   \n",
       "MinorAxisLength  0.952480   0.914257         0.828234         1.000000   \n",
       "AspectRation     0.242061   0.385310         0.549451        -0.006333   \n",
       "Eccentricity     0.266319   0.389285         0.539530         0.020265   \n",
       "ConvexArea       0.999942   0.967749         0.933017         0.952254   \n",
       "EquivDiameter    0.985060   0.991407         0.962156         0.949281   \n",
       "Extent           0.061515  -0.014747        -0.072159         0.152028   \n",
       "Solidity        -0.182034  -0.292296        -0.272549        -0.142826   \n",
       "roundness       -0.355289  -0.545499        -0.593126        -0.210594   \n",
       "Compactness     -0.267557  -0.406041        -0.566682        -0.016892   \n",
       "ShapeFactor1    -0.849571  -0.866846        -0.777369        -0.947131   \n",
       "ShapeFactor2    -0.642034  -0.769582        -0.860344        -0.476163   \n",
       "ShapeFactor3    -0.271441  -0.407387        -0.566287        -0.020872   \n",
       "ShapeFactor4    -0.347281  -0.422803        -0.474376        -0.258536   \n",
       "\n",
       "                 AspectRation  Eccentricity  ConvexArea  EquivDiameter  \\\n",
       "Area                 0.242061      0.266319    0.999942       0.985060   \n",
       "Perimeter            0.385310      0.389285    0.967749       0.991407   \n",
       "MajorAxisLength      0.549451      0.539530    0.933017       0.962156   \n",
       "MinorAxisLength     -0.006333      0.020265    0.952254       0.949281   \n",
       "AspectRation         1.000000      0.924289    0.243700       0.304100   \n",
       "Eccentricity         0.924289      1.000000    0.268175       0.317166   \n",
       "ConvexArea           0.243700      0.268175    1.000000       0.985371   \n",
       "EquivDiameter        0.304100      0.317166    0.985371       1.000000   \n",
       "Extent              -0.372584     -0.322403    0.059844       0.034623   \n",
       "Solidity            -0.267522     -0.298401   -0.191488      -0.218680   \n",
       "roundness           -0.764720     -0.719381   -0.359951      -0.433765   \n",
       "Compactness         -0.987684     -0.970301   -0.269493      -0.327132   \n",
       "ShapeFactor1         0.019730      0.017869   -0.849669      -0.894301   \n",
       "ShapeFactor2        -0.836788     -0.857655   -0.643730      -0.715356   \n",
       "ShapeFactor3        -0.978598     -0.981034   -0.273403      -0.329614   \n",
       "ShapeFactor4        -0.444994     -0.446437   -0.353579      -0.385205   \n",
       "\n",
       "                   Extent  Solidity  roundness  Compactness  ShapeFactor1  \\\n",
       "Area             0.061515 -0.182034  -0.355289    -0.267557     -0.849571   \n",
       "Perimeter       -0.014747 -0.292296  -0.545499    -0.406041     -0.866846   \n",
       "MajorAxisLength -0.072159 -0.272549  -0.593126    -0.566682     -0.777369   \n",
       "MinorAxisLength  0.152028 -0.142826  -0.210594    -0.016892     -0.947131   \n",
       "AspectRation    -0.372584 -0.267522  -0.764720    -0.987684      0.019730   \n",
       "Eccentricity    -0.322403 -0.298401  -0.719381    -0.970301      0.017869   \n",
       "ConvexArea       0.059844 -0.191488  -0.359951    -0.269493     -0.849669   \n",
       "EquivDiameter    0.034623 -0.218680  -0.433765    -0.327132     -0.894301   \n",
       "Extent           1.000000  0.183942   0.342799     0.356687     -0.146397   \n",
       "Solidity         0.183942  1.000000   0.612488     0.304272      0.143935   \n",
       "roundness        0.342799  0.612488   1.000000     0.765961      0.232145   \n",
       "Compactness      0.356687  0.304272   0.765961     1.000000     -0.005696   \n",
       "ShapeFactor1    -0.146397  0.143935   0.232145    -0.005696      1.000000   \n",
       "ShapeFactor2     0.237456  0.339551   0.780051     0.867314      0.475258   \n",
       "ShapeFactor3     0.350210  0.308374   0.760959     0.998688     -0.004994   \n",
       "ShapeFactor4     0.143211  0.703533   0.474713     0.480836      0.247025   \n",
       "\n",
       "                 ShapeFactor2  ShapeFactor3  ShapeFactor4  \n",
       "Area                -0.642034     -0.271441     -0.347281  \n",
       "Perimeter           -0.769582     -0.407387     -0.422803  \n",
       "MajorAxisLength     -0.860344     -0.566287     -0.474376  \n",
       "MinorAxisLength     -0.476163     -0.020872     -0.258536  \n",
       "AspectRation        -0.836788     -0.978598     -0.444994  \n",
       "Eccentricity        -0.857655     -0.981034     -0.446437  \n",
       "ConvexArea          -0.643730     -0.273403     -0.353579  \n",
       "EquivDiameter       -0.715356     -0.329614     -0.385205  \n",
       "Extent               0.237456      0.350210      0.143211  \n",
       "Solidity             0.339551      0.308374      0.703533  \n",
       "roundness            0.780051      0.760959      0.474713  \n",
       "Compactness          0.867314      0.998688      0.480836  \n",
       "ShapeFactor1         0.475258     -0.004994      0.247025  \n",
       "ShapeFactor2         1.000000      0.871154      0.526013  \n",
       "ShapeFactor3         0.871154      1.000000      0.480889  \n",
       "ShapeFactor4         0.526013      0.480889      1.000000  "
      ]
     },
     "execution_count": 46,
     "metadata": {},
     "output_type": "execute_result"
    }
   ],
   "source": [
    "df.corr()"
   ]
  },
  {
   "cell_type": "code",
   "execution_count": null,
   "id": "99b0bbfd",
   "metadata": {},
   "outputs": [],
   "source": []
  }
 ],
 "metadata": {
  "kernelspec": {
   "display_name": "Python 3 (ipykernel)",
   "language": "python",
   "name": "python3"
  },
  "language_info": {
   "codemirror_mode": {
    "name": "ipython",
    "version": 3
   },
   "file_extension": ".py",
   "mimetype": "text/x-python",
   "name": "python",
   "nbconvert_exporter": "python",
   "pygments_lexer": "ipython3",
   "version": "3.9.7"
  }
 },
 "nbformat": 4,
 "nbformat_minor": 5
}
