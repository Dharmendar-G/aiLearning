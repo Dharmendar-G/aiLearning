{
 "cells": [
  {
   "cell_type": "markdown",
   "id": "c1361d61",
   "metadata": {},
   "source": [
    "# DryBeenClassification"
   ]
  },
  {
   "cell_type": "markdown",
   "id": "8204864e",
   "metadata": {},
   "source": [
    "# Index\n",
    "\n",
    "- <a href='#1' > 1.Data Batches for Training </a>"
   ]
  },
  {
   "cell_type": "code",
   "execution_count": 1,
   "id": "a04bc95e",
   "metadata": {},
   "outputs": [],
   "source": [
    "#import Important liabraries\n",
    "import pandas as pd\n",
    "import numpy as np\n",
    "import pymongo\n",
    "\n",
    "from sklearn.model_selection import train_test_split\n",
    "import matplotlib.pyplot as plt\n",
    "import seaborn as sns\n",
    "import warnings\n",
    "warnings.filterwarnings('ignore')\n",
    "%matplotlib inline"
   ]
  },
  {
   "cell_type": "markdown",
   "id": "6b6a82bb",
   "metadata": {},
   "source": [
    "#  <a id='1'> 1.Data Batching for training </a>"
   ]
  },
  {
   "cell_type": "code",
   "execution_count": 38,
   "id": "b4adab50",
   "metadata": {},
   "outputs": [
    {
     "name": "stdout",
     "output_type": "stream",
     "text": [
      "original dataset shape:::: (13611, 17)\n",
      "Training dataset new shape and length ::: (8710, 17)\n",
      "Testing dataset new shape and length ::: (2723, 17)\n",
      "Validation dataset new shape and length ::: (2178, 17)\n",
      "converted data into dictionary format...>>>>>\n"
     ]
    }
   ],
   "source": [
    "\n",
    "def dataProcess(data):\n",
    "    #Read Downloaded dataset\n",
    "    df = pd.read_excel(data)\n",
    "\n",
    "    #findin the shape of dataset\n",
    "    print(\"original dataset shape::::\",df.shape)\n",
    "\n",
    "    #use sklearn model to split dataset into training and test\n",
    "    train_data, test_data = train_test_split(df, test_size=0.20, random_state=42)\n",
    "\n",
    "    #splotting train_data into train and validation datasets seperatly\n",
    "    train2, val = train_test_split(train_data, test_size=0.20, random_state=42)\n",
    "\n",
    "    print(\"Training dataset new shape and length :::\", train2.shape)\n",
    "    print(\"Testing dataset new shape and length :::\", test_data.shape)\n",
    "    print(\"Validation dataset new shape and length :::\", val.shape)\n",
    "\n",
    "    #Data Transformation\n",
    "    #'dict', 'list', 'series', 'split', 'records', 'index' \n",
    "    #convet all datasets in to dictionary for insertion into mongodb.\n",
    "    train_data = train2.to_dict(orient='records')\n",
    "    test_data = test_data.to_dict(orient='records')\n",
    "    val_data=val.to_dict(orient='records')\n",
    "\n",
    "    print(\"converted data into dictionary format...>>>>>\")\n",
    "    return (train_data, test_data, val_data)\n",
    "#Calling function\n",
    "train, test, val = dataProcess('Dry_Bean_Dataset.xlsx')\n"
   ]
  },
  {
   "cell_type": "code",
   "execution_count": 39,
   "id": "79c612ba",
   "metadata": {},
   "outputs": [
    {
     "name": "stdout",
     "output_type": "stream",
     "text": [
      "8710\n",
      "2723\n",
      "2178\n"
     ]
    }
   ],
   "source": [
    "print(len(train))\n",
    "print(len(test))\n",
    "print(len(val))"
   ]
  },
  {
   "cell_type": "code",
   "execution_count": 40,
   "id": "e35ab06d",
   "metadata": {},
   "outputs": [
    {
     "name": "stdout",
     "output_type": "stream",
     "text": [
      "all data is inserted into Mongodb database>>>>>>>>>>>>..\n"
     ]
    }
   ],
   "source": [
    "def mongoDB(train, test, val):\n",
    "    #import datasets into Mongo-db\n",
    "\n",
    "    #create connection to mongodb local host at ipadd:27017\n",
    "    myclient = pymongo.MongoClient('mongodb://localhost:27017/')\n",
    "\n",
    "    #create database in mongo db\n",
    "    mydb = myclient['project080422']\n",
    "\n",
    "    #create collections in mydb databases\n",
    "    mycol_train = mydb['train_data']\n",
    "    mycol_test = mydb['test_data']\n",
    "    mycol_val = mydb['validation_data']\n",
    "\n",
    "    #Insert data into collection\n",
    "    train = mycol_train.insert_many(train)\n",
    "    test = mycol_test.insert_many(test)\n",
    "    val = mycol_val.insert_many(val)\n",
    "    print(\"all data is inserted into Mongodb database>>>>>>>>>>>>..\")\n",
    "\n",
    "mongoDB(train, test, val)"
   ]
  },
  {
   "cell_type": "markdown",
   "id": "093ec89a",
   "metadata": {},
   "source": [
    "## Export data from database to CSV for training"
   ]
  },
  {
   "cell_type": "code",
   "execution_count": 9,
   "id": "b77bc6bc",
   "metadata": {},
   "outputs": [
    {
     "name": "stdout",
     "output_type": "stream",
     "text": [
      "['Images', 'MachineLearning', 'WebScraching', 'admin', 'config', 'database', 'local', 'project080422', 'shubhamdata']\n"
     ]
    }
   ],
   "source": [
    "#printing list of databased present in mongodb\n",
    "print(myclient.list_database_names())"
   ]
  },
  {
   "cell_type": "code",
   "execution_count": 8,
   "id": "63eff0d0",
   "metadata": {},
   "outputs": [
    {
     "name": "stdout",
     "output_type": "stream",
     "text": [
      "['test_data', 'train_data', 'validation_data']\n"
     ]
    }
   ],
   "source": [
    "#printing list of of collections presert in respected databse (project080422).\n",
    "print(mydb.list_collection_names())"
   ]
  },
  {
   "cell_type": "code",
   "execution_count": 46,
   "id": "6c086336",
   "metadata": {},
   "outputs": [
    {
     "name": "stdout",
     "output_type": "stream",
     "text": [
      "['Images', 'MachineLearning', 'WebScraching', 'admin', 'config', 'database', 'local', 'project080422', 'shubhamdata']\n",
      "['train_data', 'test_data', 'validation_data']\n",
      "validation_data file data is downloaded from batabase and converted CSV>.....>>>>>>>>>>\n"
     ]
    }
   ],
   "source": [
    "def exportdata(dbname,colname):\n",
    "#create connection to mongodb local host at ipadd:27017\n",
    "    myclient = pymongo.MongoClient('mongodb://localhost:27017/')\n",
    "    print(myclient.list_database_names())\n",
    "    \n",
    "    #connect to database in mongo db\n",
    "    mydb = myclient[dbname]\n",
    "    print(mydb.list_collection_names())\n",
    "    \n",
    "    allrecords = mydb[colname].find()\n",
    "    list_courser = list(allrecords)\n",
    "    \n",
    "    #creating dataframe from fetched data from database and droping \"_id \" columns from database.\n",
    "    df = pd.DataFrame(list_courser).drop('_id',axis=1)\n",
    "\n",
    "    #converting this dataframe to .csv file for better training.\n",
    "    df.to_csv(f\"{colname}.csv\")\n",
    "    \n",
    "    print(f\"{colname} file data is downloaded from batabase and converted CSV>.....>>>>>>>>>>\")\n",
    "\n",
    "\n",
    "exportdata('project080422','validation_data')"
   ]
  },
  {
   "cell_type": "markdown",
   "id": "c69f6c46",
   "metadata": {},
   "source": [
    "## Reading data form csv file"
   ]
  },
  {
   "cell_type": "code",
   "execution_count": 2,
   "id": "73b904c5",
   "metadata": {},
   "outputs": [],
   "source": [
    "#Reading data form csv file\n",
    "train_data = pd.read_csv('Train_data.csv').drop('Unnamed: 0', axis=1)\n",
    "test_data = pd.read_csv('Test_data.csv').drop('Unnamed: 0', axis=1)\n",
    "test_data = pd.read_csv('validation_data.csv').drop('Unnamed: 0', axis=1)"
   ]
  },
  {
   "cell_type": "markdown",
   "id": "c7efecdc",
   "metadata": {},
   "source": [
    "## Data preprocessing"
   ]
  },
  {
   "cell_type": "code",
   "execution_count": 3,
   "id": "ba1d52d7",
   "metadata": {},
   "outputs": [
    {
     "name": "stdout",
     "output_type": "stream",
     "text": [
      "<class 'pandas.core.frame.DataFrame'>\n",
      "RangeIndex: 8710 entries, 0 to 8709\n",
      "Data columns (total 17 columns):\n",
      " #   Column           Non-Null Count  Dtype  \n",
      "---  ------           --------------  -----  \n",
      " 0   Area             8710 non-null   int64  \n",
      " 1   Perimeter        8710 non-null   float64\n",
      " 2   MajorAxisLength  8710 non-null   float64\n",
      " 3   MinorAxisLength  8710 non-null   float64\n",
      " 4   AspectRation     8710 non-null   float64\n",
      " 5   Eccentricity     8710 non-null   float64\n",
      " 6   ConvexArea       8710 non-null   int64  \n",
      " 7   EquivDiameter    8710 non-null   float64\n",
      " 8   Extent           8710 non-null   float64\n",
      " 9   Solidity         8710 non-null   float64\n",
      " 10  roundness        8710 non-null   float64\n",
      " 11  Compactness      8710 non-null   float64\n",
      " 12  ShapeFactor1     8710 non-null   float64\n",
      " 13  ShapeFactor2     8710 non-null   float64\n",
      " 14  ShapeFactor3     8710 non-null   float64\n",
      " 15  ShapeFactor4     8710 non-null   float64\n",
      " 16  Class            8710 non-null   object \n",
      "dtypes: float64(14), int64(2), object(1)\n",
      "memory usage: 1.1+ MB\n"
     ]
    }
   ],
   "source": [
    "train_data.info()"
   ]
  },
  {
   "cell_type": "code",
   "execution_count": 4,
   "id": "6a58d0e0",
   "metadata": {},
   "outputs": [
    {
     "data": {
      "text/html": [
       "<div>\n",
       "<style scoped>\n",
       "    .dataframe tbody tr th:only-of-type {\n",
       "        vertical-align: middle;\n",
       "    }\n",
       "\n",
       "    .dataframe tbody tr th {\n",
       "        vertical-align: top;\n",
       "    }\n",
       "\n",
       "    .dataframe thead th {\n",
       "        text-align: right;\n",
       "    }\n",
       "</style>\n",
       "<table border=\"1\" class=\"dataframe\">\n",
       "  <thead>\n",
       "    <tr style=\"text-align: right;\">\n",
       "      <th></th>\n",
       "      <th>Area</th>\n",
       "      <th>Perimeter</th>\n",
       "      <th>MajorAxisLength</th>\n",
       "      <th>MinorAxisLength</th>\n",
       "      <th>AspectRation</th>\n",
       "      <th>Eccentricity</th>\n",
       "      <th>ConvexArea</th>\n",
       "      <th>EquivDiameter</th>\n",
       "      <th>Extent</th>\n",
       "      <th>Solidity</th>\n",
       "      <th>roundness</th>\n",
       "      <th>Compactness</th>\n",
       "      <th>ShapeFactor1</th>\n",
       "      <th>ShapeFactor2</th>\n",
       "      <th>ShapeFactor3</th>\n",
       "      <th>ShapeFactor4</th>\n",
       "      <th>Class</th>\n",
       "    </tr>\n",
       "  </thead>\n",
       "  <tbody>\n",
       "    <tr>\n",
       "      <th>0</th>\n",
       "      <td>62716</td>\n",
       "      <td>937.448</td>\n",
       "      <td>356.992788</td>\n",
       "      <td>224.568972</td>\n",
       "      <td>1.589680</td>\n",
       "      <td>0.777359</td>\n",
       "      <td>63313</td>\n",
       "      <td>282.581831</td>\n",
       "      <td>0.775037</td>\n",
       "      <td>0.990571</td>\n",
       "      <td>0.896796</td>\n",
       "      <td>0.791562</td>\n",
       "      <td>0.005692</td>\n",
       "      <td>0.001378</td>\n",
       "      <td>0.626570</td>\n",
       "      <td>0.996046</td>\n",
       "      <td>CALI</td>\n",
       "    </tr>\n",
       "    <tr>\n",
       "      <th>1</th>\n",
       "      <td>30917</td>\n",
       "      <td>646.018</td>\n",
       "      <td>233.942038</td>\n",
       "      <td>168.648659</td>\n",
       "      <td>1.387156</td>\n",
       "      <td>0.693040</td>\n",
       "      <td>31312</td>\n",
       "      <td>198.405512</td>\n",
       "      <td>0.778883</td>\n",
       "      <td>0.987385</td>\n",
       "      <td>0.930932</td>\n",
       "      <td>0.848097</td>\n",
       "      <td>0.007567</td>\n",
       "      <td>0.002415</td>\n",
       "      <td>0.719268</td>\n",
       "      <td>0.997738</td>\n",
       "      <td>DERMASON</td>\n",
       "    </tr>\n",
       "    <tr>\n",
       "      <th>2</th>\n",
       "      <td>37278</td>\n",
       "      <td>737.864</td>\n",
       "      <td>281.747347</td>\n",
       "      <td>168.833859</td>\n",
       "      <td>1.668785</td>\n",
       "      <td>0.800571</td>\n",
       "      <td>37788</td>\n",
       "      <td>217.861937</td>\n",
       "      <td>0.773435</td>\n",
       "      <td>0.986504</td>\n",
       "      <td>0.860419</td>\n",
       "      <td>0.773253</td>\n",
       "      <td>0.007558</td>\n",
       "      <td>0.001667</td>\n",
       "      <td>0.597920</td>\n",
       "      <td>0.997800</td>\n",
       "      <td>DERMASON</td>\n",
       "    </tr>\n",
       "    <tr>\n",
       "      <th>3</th>\n",
       "      <td>28351</td>\n",
       "      <td>616.298</td>\n",
       "      <td>228.588375</td>\n",
       "      <td>158.106545</td>\n",
       "      <td>1.445787</td>\n",
       "      <td>0.722219</td>\n",
       "      <td>28625</td>\n",
       "      <td>189.993722</td>\n",
       "      <td>0.719751</td>\n",
       "      <td>0.990428</td>\n",
       "      <td>0.937987</td>\n",
       "      <td>0.831161</td>\n",
       "      <td>0.008063</td>\n",
       "      <td>0.002374</td>\n",
       "      <td>0.690828</td>\n",
       "      <td>0.998791</td>\n",
       "      <td>DERMASON</td>\n",
       "    </tr>\n",
       "    <tr>\n",
       "      <th>4</th>\n",
       "      <td>31332</td>\n",
       "      <td>652.039</td>\n",
       "      <td>232.492875</td>\n",
       "      <td>172.153364</td>\n",
       "      <td>1.350499</td>\n",
       "      <td>0.672092</td>\n",
       "      <td>31758</td>\n",
       "      <td>199.732675</td>\n",
       "      <td>0.763004</td>\n",
       "      <td>0.986586</td>\n",
       "      <td>0.926085</td>\n",
       "      <td>0.859092</td>\n",
       "      <td>0.007420</td>\n",
       "      <td>0.002493</td>\n",
       "      <td>0.738038</td>\n",
       "      <td>0.996720</td>\n",
       "      <td>DERMASON</td>\n",
       "    </tr>\n",
       "    <tr>\n",
       "      <th>...</th>\n",
       "      <td>...</td>\n",
       "      <td>...</td>\n",
       "      <td>...</td>\n",
       "      <td>...</td>\n",
       "      <td>...</td>\n",
       "      <td>...</td>\n",
       "      <td>...</td>\n",
       "      <td>...</td>\n",
       "      <td>...</td>\n",
       "      <td>...</td>\n",
       "      <td>...</td>\n",
       "      <td>...</td>\n",
       "      <td>...</td>\n",
       "      <td>...</td>\n",
       "      <td>...</td>\n",
       "      <td>...</td>\n",
       "      <td>...</td>\n",
       "    </tr>\n",
       "    <tr>\n",
       "      <th>8705</th>\n",
       "      <td>37622</td>\n",
       "      <td>712.941</td>\n",
       "      <td>253.893294</td>\n",
       "      <td>189.220878</td>\n",
       "      <td>1.341783</td>\n",
       "      <td>0.666755</td>\n",
       "      <td>38017</td>\n",
       "      <td>218.864840</td>\n",
       "      <td>0.777571</td>\n",
       "      <td>0.989610</td>\n",
       "      <td>0.930132</td>\n",
       "      <td>0.862035</td>\n",
       "      <td>0.006749</td>\n",
       "      <td>0.002299</td>\n",
       "      <td>0.743104</td>\n",
       "      <td>0.997084</td>\n",
       "      <td>DERMASON</td>\n",
       "    </tr>\n",
       "    <tr>\n",
       "      <th>8706</th>\n",
       "      <td>55647</td>\n",
       "      <td>948.511</td>\n",
       "      <td>376.993422</td>\n",
       "      <td>188.895593</td>\n",
       "      <td>1.995777</td>\n",
       "      <td>0.865414</td>\n",
       "      <td>56332</td>\n",
       "      <td>266.180317</td>\n",
       "      <td>0.709584</td>\n",
       "      <td>0.987840</td>\n",
       "      <td>0.777261</td>\n",
       "      <td>0.706061</td>\n",
       "      <td>0.006775</td>\n",
       "      <td>0.001039</td>\n",
       "      <td>0.498522</td>\n",
       "      <td>0.994939</td>\n",
       "      <td>HOROZ</td>\n",
       "    </tr>\n",
       "    <tr>\n",
       "      <th>8707</th>\n",
       "      <td>45564</td>\n",
       "      <td>802.744</td>\n",
       "      <td>296.073697</td>\n",
       "      <td>196.340281</td>\n",
       "      <td>1.507962</td>\n",
       "      <td>0.748489</td>\n",
       "      <td>46120</td>\n",
       "      <td>240.860720</td>\n",
       "      <td>0.746461</td>\n",
       "      <td>0.987944</td>\n",
       "      <td>0.888541</td>\n",
       "      <td>0.813516</td>\n",
       "      <td>0.006498</td>\n",
       "      <td>0.001756</td>\n",
       "      <td>0.661808</td>\n",
       "      <td>0.997982</td>\n",
       "      <td>BARBUNYA</td>\n",
       "    </tr>\n",
       "    <tr>\n",
       "      <th>8708</th>\n",
       "      <td>79140</td>\n",
       "      <td>1105.067</td>\n",
       "      <td>382.072161</td>\n",
       "      <td>264.967830</td>\n",
       "      <td>1.441957</td>\n",
       "      <td>0.720455</td>\n",
       "      <td>80482</td>\n",
       "      <td>317.433737</td>\n",
       "      <td>0.755730</td>\n",
       "      <td>0.983325</td>\n",
       "      <td>0.814383</td>\n",
       "      <td>0.830821</td>\n",
       "      <td>0.004828</td>\n",
       "      <td>0.001419</td>\n",
       "      <td>0.690264</td>\n",
       "      <td>0.995331</td>\n",
       "      <td>BARBUNYA</td>\n",
       "    </tr>\n",
       "    <tr>\n",
       "      <th>8709</th>\n",
       "      <td>42060</td>\n",
       "      <td>765.942</td>\n",
       "      <td>273.229507</td>\n",
       "      <td>198.557635</td>\n",
       "      <td>1.376072</td>\n",
       "      <td>0.686948</td>\n",
       "      <td>42823</td>\n",
       "      <td>231.414034</td>\n",
       "      <td>0.779842</td>\n",
       "      <td>0.982182</td>\n",
       "      <td>0.900922</td>\n",
       "      <td>0.846958</td>\n",
       "      <td>0.006496</td>\n",
       "      <td>0.002062</td>\n",
       "      <td>0.717339</td>\n",
       "      <td>0.987109</td>\n",
       "      <td>SIRA</td>\n",
       "    </tr>\n",
       "  </tbody>\n",
       "</table>\n",
       "<p>8710 rows × 17 columns</p>\n",
       "</div>"
      ],
      "text/plain": [
       "       Area  Perimeter  MajorAxisLength  MinorAxisLength  AspectRation  \\\n",
       "0     62716    937.448       356.992788       224.568972      1.589680   \n",
       "1     30917    646.018       233.942038       168.648659      1.387156   \n",
       "2     37278    737.864       281.747347       168.833859      1.668785   \n",
       "3     28351    616.298       228.588375       158.106545      1.445787   \n",
       "4     31332    652.039       232.492875       172.153364      1.350499   \n",
       "...     ...        ...              ...              ...           ...   \n",
       "8705  37622    712.941       253.893294       189.220878      1.341783   \n",
       "8706  55647    948.511       376.993422       188.895593      1.995777   \n",
       "8707  45564    802.744       296.073697       196.340281      1.507962   \n",
       "8708  79140   1105.067       382.072161       264.967830      1.441957   \n",
       "8709  42060    765.942       273.229507       198.557635      1.376072   \n",
       "\n",
       "      Eccentricity  ConvexArea  EquivDiameter    Extent  Solidity  roundness  \\\n",
       "0         0.777359       63313     282.581831  0.775037  0.990571   0.896796   \n",
       "1         0.693040       31312     198.405512  0.778883  0.987385   0.930932   \n",
       "2         0.800571       37788     217.861937  0.773435  0.986504   0.860419   \n",
       "3         0.722219       28625     189.993722  0.719751  0.990428   0.937987   \n",
       "4         0.672092       31758     199.732675  0.763004  0.986586   0.926085   \n",
       "...            ...         ...            ...       ...       ...        ...   \n",
       "8705      0.666755       38017     218.864840  0.777571  0.989610   0.930132   \n",
       "8706      0.865414       56332     266.180317  0.709584  0.987840   0.777261   \n",
       "8707      0.748489       46120     240.860720  0.746461  0.987944   0.888541   \n",
       "8708      0.720455       80482     317.433737  0.755730  0.983325   0.814383   \n",
       "8709      0.686948       42823     231.414034  0.779842  0.982182   0.900922   \n",
       "\n",
       "      Compactness  ShapeFactor1  ShapeFactor2  ShapeFactor3  ShapeFactor4  \\\n",
       "0        0.791562      0.005692      0.001378      0.626570      0.996046   \n",
       "1        0.848097      0.007567      0.002415      0.719268      0.997738   \n",
       "2        0.773253      0.007558      0.001667      0.597920      0.997800   \n",
       "3        0.831161      0.008063      0.002374      0.690828      0.998791   \n",
       "4        0.859092      0.007420      0.002493      0.738038      0.996720   \n",
       "...           ...           ...           ...           ...           ...   \n",
       "8705     0.862035      0.006749      0.002299      0.743104      0.997084   \n",
       "8706     0.706061      0.006775      0.001039      0.498522      0.994939   \n",
       "8707     0.813516      0.006498      0.001756      0.661808      0.997982   \n",
       "8708     0.830821      0.004828      0.001419      0.690264      0.995331   \n",
       "8709     0.846958      0.006496      0.002062      0.717339      0.987109   \n",
       "\n",
       "         Class  \n",
       "0         CALI  \n",
       "1     DERMASON  \n",
       "2     DERMASON  \n",
       "3     DERMASON  \n",
       "4     DERMASON  \n",
       "...        ...  \n",
       "8705  DERMASON  \n",
       "8706     HOROZ  \n",
       "8707  BARBUNYA  \n",
       "8708  BARBUNYA  \n",
       "8709      SIRA  \n",
       "\n",
       "[8710 rows x 17 columns]"
      ]
     },
     "execution_count": 4,
     "metadata": {},
     "output_type": "execute_result"
    }
   ],
   "source": [
    "train_data"
   ]
  },
  {
   "cell_type": "code",
   "execution_count": 5,
   "id": "6963192f",
   "metadata": {},
   "outputs": [
    {
     "data": {
      "image/png": "[encoded data removed]",
      "text/plain": [
       "<Figure size 576x432 with 2 Axes>"
      ]
     },
     "metadata": {
      "needs_background": "light"
     },
     "output_type": "display_data"
    }
   ],
   "source": [
    "# Ploting correlation plot for know correlation between features of data.\n",
    "\n",
    "cor= train_data.corr(method='pearson')\n",
    "fig, ax =plt.subplots(figsize=(8, 6))\n",
    "plt.title(\"Correlation Plot\")\n",
    "sns.heatmap(cor, mask=np.zeros_like(cor, dtype=np.bool), cmap=sns.diverging_palette(220, 10, as_cmap=True),\n",
    "            square=True, ax=ax)\n",
    "plt.show()"
   ]
  },
  {
   "cell_type": "markdown",
   "id": "da87c007",
   "metadata": {},
   "source": [
    "## Scaling data using StandardScaler"
   ]
  },
  {
   "cell_type": "code",
   "execution_count": 6,
   "id": "2cb9f623",
   "metadata": {},
   "outputs": [],
   "source": [
    "#Call the sklearn librart and import scaler values\n",
    "from sklearn.preprocessing import StandardScaler"
   ]
  },
  {
   "cell_type": "code",
   "execution_count": 7,
   "id": "e4733308",
   "metadata": {},
   "outputs": [],
   "source": [
    "#call Standardscaler \n",
    "std_scaler = StandardScaler()\n",
    "\n",
    "train_data_Scale = train_data\n",
    "#fit valuse to function\n",
    "train_data_Scale[['Area', 'Perimeter', 'MajorAxisLength', 'MinorAxisLength',\n",
    "       'AspectRation', 'Eccentricity', 'ConvexArea', 'EquivDiameter', 'Extent',\n",
    "       'Solidity', 'roundness', 'Compactness', 'ShapeFactor1', 'ShapeFactor2',\n",
    "       'ShapeFactor3', 'ShapeFactor4']] = std_scaler.fit_transform(train_data_Scale[['Area', 'Perimeter', 'MajorAxisLength', 'MinorAxisLength',\n",
    "       'AspectRation', 'Eccentricity', 'ConvexArea', 'EquivDiameter', 'Extent',\n",
    "       'Solidity', 'roundness', 'Compactness', 'ShapeFactor1', 'ShapeFactor2',\n",
    "       'ShapeFactor3', 'ShapeFactor4']])"
   ]
  },
  {
   "cell_type": "code",
   "execution_count": 8,
   "id": "ab8f595b",
   "metadata": {},
   "outputs": [
    {
     "data": {
      "text/html": [
       "<div>\n",
       "<style scoped>\n",
       "    .dataframe tbody tr th:only-of-type {\n",
       "        vertical-align: middle;\n",
       "    }\n",
       "\n",
       "    .dataframe tbody tr th {\n",
       "        vertical-align: top;\n",
       "    }\n",
       "\n",
       "    .dataframe thead th {\n",
       "        text-align: right;\n",
       "    }\n",
       "</style>\n",
       "<table border=\"1\" class=\"dataframe\">\n",
       "  <thead>\n",
       "    <tr style=\"text-align: right;\">\n",
       "      <th></th>\n",
       "      <th>Area</th>\n",
       "      <th>Perimeter</th>\n",
       "      <th>MajorAxisLength</th>\n",
       "      <th>MinorAxisLength</th>\n",
       "      <th>AspectRation</th>\n",
       "      <th>Eccentricity</th>\n",
       "      <th>ConvexArea</th>\n",
       "      <th>EquivDiameter</th>\n",
       "      <th>Extent</th>\n",
       "      <th>Solidity</th>\n",
       "      <th>roundness</th>\n",
       "      <th>Compactness</th>\n",
       "      <th>ShapeFactor1</th>\n",
       "      <th>ShapeFactor2</th>\n",
       "      <th>ShapeFactor3</th>\n",
       "      <th>ShapeFactor4</th>\n",
       "    </tr>\n",
       "  </thead>\n",
       "  <tbody>\n",
       "    <tr>\n",
       "      <th>count</th>\n",
       "      <td>8.710000e+03</td>\n",
       "      <td>8.710000e+03</td>\n",
       "      <td>8.710000e+03</td>\n",
       "      <td>8.710000e+03</td>\n",
       "      <td>8.710000e+03</td>\n",
       "      <td>8.710000e+03</td>\n",
       "      <td>8.710000e+03</td>\n",
       "      <td>8.710000e+03</td>\n",
       "      <td>8.710000e+03</td>\n",
       "      <td>8.710000e+03</td>\n",
       "      <td>8.710000e+03</td>\n",
       "      <td>8.710000e+03</td>\n",
       "      <td>8.710000e+03</td>\n",
       "      <td>8.710000e+03</td>\n",
       "      <td>8.710000e+03</td>\n",
       "      <td>8.710000e+03</td>\n",
       "    </tr>\n",
       "    <tr>\n",
       "      <th>mean</th>\n",
       "      <td>9.115683e-17</td>\n",
       "      <td>6.016364e-18</td>\n",
       "      <td>-3.243100e-16</td>\n",
       "      <td>-3.164056e-16</td>\n",
       "      <td>2.638022e-16</td>\n",
       "      <td>9.547153e-17</td>\n",
       "      <td>7.284644e-17</td>\n",
       "      <td>2.053658e-16</td>\n",
       "      <td>-9.405412e-16</td>\n",
       "      <td>3.220208e-15</td>\n",
       "      <td>-7.507134e-16</td>\n",
       "      <td>-7.402294e-16</td>\n",
       "      <td>2.741222e-16</td>\n",
       "      <td>9.811006e-17</td>\n",
       "      <td>4.128475e-16</td>\n",
       "      <td>-6.179392e-15</td>\n",
       "    </tr>\n",
       "    <tr>\n",
       "      <th>std</th>\n",
       "      <td>1.000057e+00</td>\n",
       "      <td>1.000057e+00</td>\n",
       "      <td>1.000057e+00</td>\n",
       "      <td>1.000057e+00</td>\n",
       "      <td>1.000057e+00</td>\n",
       "      <td>1.000057e+00</td>\n",
       "      <td>1.000057e+00</td>\n",
       "      <td>1.000057e+00</td>\n",
       "      <td>1.000057e+00</td>\n",
       "      <td>1.000057e+00</td>\n",
       "      <td>1.000057e+00</td>\n",
       "      <td>1.000057e+00</td>\n",
       "      <td>1.000057e+00</td>\n",
       "      <td>1.000057e+00</td>\n",
       "      <td>1.000057e+00</td>\n",
       "      <td>1.000057e+00</td>\n",
       "    </tr>\n",
       "    <tr>\n",
       "      <th>min</th>\n",
       "      <td>-1.108573e+00</td>\n",
       "      <td>-1.534722e+00</td>\n",
       "      <td>-1.586260e+00</td>\n",
       "      <td>-1.764073e+00</td>\n",
       "      <td>-2.269649e+00</td>\n",
       "      <td>-5.792700e+00</td>\n",
       "      <td>-1.107450e+00</td>\n",
       "      <td>-1.542812e+00</td>\n",
       "      <td>-3.986991e+00</td>\n",
       "      <td>-1.467465e+01</td>\n",
       "      <td>-6.452955e+00</td>\n",
       "      <td>-2.519232e+00</td>\n",
       "      <td>-3.341250e+00</td>\n",
       "      <td>-1.934271e+00</td>\n",
       "      <td>-2.307588e+00</td>\n",
       "      <td>-1.092797e+01</td>\n",
       "    </tr>\n",
       "    <tr>\n",
       "      <th>25%</th>\n",
       "      <td>-5.726121e-01</td>\n",
       "      <td>-7.083763e-01</td>\n",
       "      <td>-7.785456e-01</td>\n",
       "      <td>-5.925453e-01</td>\n",
       "      <td>-6.124208e-01</td>\n",
       "      <td>-3.816121e-01</td>\n",
       "      <td>-5.748214e-01</td>\n",
       "      <td>-6.445369e-01</td>\n",
       "      <td>-6.325439e-01</td>\n",
       "      <td>-3.196685e-01</td>\n",
       "      <td>-6.829573e-01</td>\n",
       "      <td>-6.093194e-01</td>\n",
       "      <td>-5.865364e-01</td>\n",
       "      <td>-9.479632e-01</td>\n",
       "      <td>-6.317305e-01</td>\n",
       "      <td>-3.115581e-01</td>\n",
       "    </tr>\n",
       "    <tr>\n",
       "      <th>50%</th>\n",
       "      <td>-2.877848e-01</td>\n",
       "      <td>-2.844971e-01</td>\n",
       "      <td>-2.776726e-01</td>\n",
       "      <td>-2.185254e-01</td>\n",
       "      <td>-1.297084e-01</td>\n",
       "      <td>1.466764e-01</td>\n",
       "      <td>-2.901972e-01</td>\n",
       "      <td>-2.482374e-01</td>\n",
       "      <td>1.974035e-01</td>\n",
       "      <td>2.403053e-01</td>\n",
       "      <td>1.721540e-01</td>\n",
       "      <td>2.102311e-02</td>\n",
       "      <td>7.402184e-02</td>\n",
       "      <td>-2.226916e-02</td>\n",
       "      <td>-1.731370e-02</td>\n",
       "      <td>3.058632e-01</td>\n",
       "    </tr>\n",
       "    <tr>\n",
       "      <th>75%</th>\n",
       "      <td>2.865749e-01</td>\n",
       "      <td>5.748040e-01</td>\n",
       "      <td>6.560986e-01</td>\n",
       "      <td>3.234721e-01</td>\n",
       "      <td>5.079770e-01</td>\n",
       "      <td>6.508184e-01</td>\n",
       "      <td>2.913417e-01</td>\n",
       "      <td>4.505251e-01</td>\n",
       "      <td>7.597692e-01</td>\n",
       "      <td>6.132338e-01</td>\n",
       "      <td>7.324290e-01</td>\n",
       "      <td>5.566772e-01</td>\n",
       "      <td>6.339487e-01</td>\n",
       "      <td>7.625741e-01</td>\n",
       "      <td>5.287258e-01</td>\n",
       "      <td>6.455401e-01</td>\n",
       "    </tr>\n",
       "    <tr>\n",
       "      <th>max</th>\n",
       "      <td>6.861962e+00</td>\n",
       "      <td>5.264803e+00</td>\n",
       "      <td>4.882899e+00</td>\n",
       "      <td>5.712034e+00</td>\n",
       "      <td>3.289383e+00</td>\n",
       "      <td>1.717316e+00</td>\n",
       "      <td>7.027254e+00</td>\n",
       "      <td>5.329029e+00</td>\n",
       "      <td>2.394698e+00</td>\n",
       "      <td>1.620963e+00</td>\n",
       "      <td>1.918256e+00</td>\n",
       "      <td>3.044606e+00</td>\n",
       "      <td>3.422991e+00</td>\n",
       "      <td>3.264354e+00</td>\n",
       "      <td>3.352972e+00</td>\n",
       "      <td>1.065825e+00</td>\n",
       "    </tr>\n",
       "  </tbody>\n",
       "</table>\n",
       "</div>"
      ],
      "text/plain": [
       "               Area     Perimeter  MajorAxisLength  MinorAxisLength  \\\n",
       "count  8.710000e+03  8.710000e+03     8.710000e+03     8.710000e+03   \n",
       "mean   9.115683e-17  6.016364e-18    -3.243100e-16    -3.164056e-16   \n",
       "std    1.000057e+00  1.000057e+00     1.000057e+00     1.000057e+00   \n",
       "min   -1.108573e+00 -1.534722e+00    -1.586260e+00    -1.764073e+00   \n",
       "25%   -5.726121e-01 -7.083763e-01    -7.785456e-01    -5.925453e-01   \n",
       "50%   -2.877848e-01 -2.844971e-01    -2.776726e-01    -2.185254e-01   \n",
       "75%    2.865749e-01  5.748040e-01     6.560986e-01     3.234721e-01   \n",
       "max    6.861962e+00  5.264803e+00     4.882899e+00     5.712034e+00   \n",
       "\n",
       "       AspectRation  Eccentricity    ConvexArea  EquivDiameter        Extent  \\\n",
       "count  8.710000e+03  8.710000e+03  8.710000e+03   8.710000e+03  8.710000e+03   \n",
       "mean   2.638022e-16  9.547153e-17  7.284644e-17   2.053658e-16 -9.405412e-16   \n",
       "std    1.000057e+00  1.000057e+00  1.000057e+00   1.000057e+00  1.000057e+00   \n",
       "min   -2.269649e+00 -5.792700e+00 -1.107450e+00  -1.542812e+00 -3.986991e+00   \n",
       "25%   -6.124208e-01 -3.816121e-01 -5.748214e-01  -6.445369e-01 -6.325439e-01   \n",
       "50%   -1.297084e-01  1.466764e-01 -2.901972e-01  -2.482374e-01  1.974035e-01   \n",
       "75%    5.079770e-01  6.508184e-01  2.913417e-01   4.505251e-01  7.597692e-01   \n",
       "max    3.289383e+00  1.717316e+00  7.027254e+00   5.329029e+00  2.394698e+00   \n",
       "\n",
       "           Solidity     roundness   Compactness  ShapeFactor1  ShapeFactor2  \\\n",
       "count  8.710000e+03  8.710000e+03  8.710000e+03  8.710000e+03  8.710000e+03   \n",
       "mean   3.220208e-15 -7.507134e-16 -7.402294e-16  2.741222e-16  9.811006e-17   \n",
       "std    1.000057e+00  1.000057e+00  1.000057e+00  1.000057e+00  1.000057e+00   \n",
       "min   -1.467465e+01 -6.452955e+00 -2.519232e+00 -3.341250e+00 -1.934271e+00   \n",
       "25%   -3.196685e-01 -6.829573e-01 -6.093194e-01 -5.865364e-01 -9.479632e-01   \n",
       "50%    2.403053e-01  1.721540e-01  2.102311e-02  7.402184e-02 -2.226916e-02   \n",
       "75%    6.132338e-01  7.324290e-01  5.566772e-01  6.339487e-01  7.625741e-01   \n",
       "max    1.620963e+00  1.918256e+00  3.044606e+00  3.422991e+00  3.264354e+00   \n",
       "\n",
       "       ShapeFactor3  ShapeFactor4  \n",
       "count  8.710000e+03  8.710000e+03  \n",
       "mean   4.128475e-16 -6.179392e-15  \n",
       "std    1.000057e+00  1.000057e+00  \n",
       "min   -2.307588e+00 -1.092797e+01  \n",
       "25%   -6.317305e-01 -3.115581e-01  \n",
       "50%   -1.731370e-02  3.058632e-01  \n",
       "75%    5.287258e-01  6.455401e-01  \n",
       "max    3.352972e+00  1.065825e+00  "
      ]
     },
     "execution_count": 8,
     "metadata": {},
     "output_type": "execute_result"
    }
   ],
   "source": [
    "train_data_Scale.describe()"
   ]
  },
  {
   "cell_type": "code",
   "execution_count": 9,
   "id": "90ddc4f9",
   "metadata": {},
   "outputs": [
    {
     "data": {
      "image/png": "[encoded data removed]",
      "text/plain": [
       "<Figure size 432x288 with 1 Axes>"
      ]
     },
     "metadata": {
      "needs_background": "light"
     },
     "output_type": "display_data"
    }
   ],
   "source": [
    "plt.scatter(train_data_Scale['Area'],train_data_Scale[ 'Perimeter'])\n",
    "plt.show()"
   ]
  },
  {
   "cell_type": "code",
   "execution_count": 10,
   "id": "f02cb5b5",
   "metadata": {},
   "outputs": [
    {
     "data": {
      "text/plain": [
       "7"
      ]
     },
     "execution_count": 10,
     "metadata": {},
     "output_type": "execute_result"
    }
   ],
   "source": [
    "len(train_data[\"Class\"].unique())"
   ]
  },
  {
   "cell_type": "markdown",
   "id": "c3830efc",
   "metadata": {},
   "source": [
    "## Data Clustering"
   ]
  },
  {
   "cell_type": "code",
   "execution_count": 11,
   "id": "aedf66fc",
   "metadata": {},
   "outputs": [],
   "source": [
    "#Importing KMeans for clustering\n",
    "from sklearn.cluster import KMeans"
   ]
  },
  {
   "cell_type": "code",
   "execution_count": 12,
   "id": "a1f4bc4d",
   "metadata": {},
   "outputs": [],
   "source": [
    "km = KMeans(n_clusters=7, init='k-means++')\n",
    "km= km.fit(train_data_Scale[['Area', 'Perimeter', 'MajorAxisLength', 'MinorAxisLength',\n",
    "       'AspectRation', 'Eccentricity', 'ConvexArea', 'EquivDiameter', 'Extent',\n",
    "       'Solidity', 'roundness', 'Compactness', 'ShapeFactor1', 'ShapeFactor2',\n",
    "       'ShapeFactor3', 'ShapeFactor4']])"
   ]
  },
  {
   "cell_type": "code",
   "execution_count": 13,
   "id": "e01daef6",
   "metadata": {},
   "outputs": [],
   "source": [
    "train_data_Scale['Clusters'] = km.labels_"
   ]
  },
  {
   "cell_type": "code",
   "execution_count": 14,
   "id": "29f28e38",
   "metadata": {},
   "outputs": [
    {
     "data": {
      "text/html": [
       "<div>\n",
       "<style scoped>\n",
       "    .dataframe tbody tr th:only-of-type {\n",
       "        vertical-align: middle;\n",
       "    }\n",
       "\n",
       "    .dataframe tbody tr th {\n",
       "        vertical-align: top;\n",
       "    }\n",
       "\n",
       "    .dataframe thead th {\n",
       "        text-align: right;\n",
       "    }\n",
       "</style>\n",
       "<table border=\"1\" class=\"dataframe\">\n",
       "  <thead>\n",
       "    <tr style=\"text-align: right;\">\n",
       "      <th></th>\n",
       "      <th>Area</th>\n",
       "      <th>Perimeter</th>\n",
       "      <th>MajorAxisLength</th>\n",
       "      <th>MinorAxisLength</th>\n",
       "      <th>AspectRation</th>\n",
       "      <th>Eccentricity</th>\n",
       "      <th>ConvexArea</th>\n",
       "      <th>EquivDiameter</th>\n",
       "      <th>Extent</th>\n",
       "      <th>Solidity</th>\n",
       "      <th>roundness</th>\n",
       "      <th>Compactness</th>\n",
       "      <th>ShapeFactor1</th>\n",
       "      <th>ShapeFactor2</th>\n",
       "      <th>ShapeFactor3</th>\n",
       "      <th>ShapeFactor4</th>\n",
       "      <th>Class</th>\n",
       "      <th>Clusters</th>\n",
       "    </tr>\n",
       "  </thead>\n",
       "  <tbody>\n",
       "    <tr>\n",
       "      <th>0</th>\n",
       "      <td>0.330912</td>\n",
       "      <td>0.386530</td>\n",
       "      <td>0.433875</td>\n",
       "      <td>0.495376</td>\n",
       "      <td>0.032255</td>\n",
       "      <td>0.291966</td>\n",
       "      <td>0.322093</td>\n",
       "      <td>0.500201</td>\n",
       "      <td>0.523431</td>\n",
       "      <td>0.733752</td>\n",
       "      <td>0.387430</td>\n",
       "      <td>-0.140419</td>\n",
       "      <td>-0.772249</td>\n",
       "      <td>-0.572536</td>\n",
       "      <td>-0.177576</td>\n",
       "      <td>0.216201</td>\n",
       "      <td>CALI</td>\n",
       "      <td>6</td>\n",
       "    </tr>\n",
       "    <tr>\n",
       "      <th>1</th>\n",
       "      <td>-0.751323</td>\n",
       "      <td>-0.970132</td>\n",
       "      <td>-0.999753</td>\n",
       "      <td>-0.742657</td>\n",
       "      <td>-0.793135</td>\n",
       "      <td>-0.626813</td>\n",
       "      <td>-0.751045</td>\n",
       "      <td>-0.917106</td>\n",
       "      <td>0.602389</td>\n",
       "      <td>0.045553</td>\n",
       "      <td>0.960892</td>\n",
       "      <td>0.779499</td>\n",
       "      <td>0.880266</td>\n",
       "      <td>1.166401</td>\n",
       "      <td>0.762340</td>\n",
       "      <td>0.606074</td>\n",
       "      <td>DERMASON</td>\n",
       "      <td>0</td>\n",
       "    </tr>\n",
       "    <tr>\n",
       "      <th>2</th>\n",
       "      <td>-0.534835</td>\n",
       "      <td>-0.542571</td>\n",
       "      <td>-0.442787</td>\n",
       "      <td>-0.738557</td>\n",
       "      <td>0.354647</td>\n",
       "      <td>0.544892</td>\n",
       "      <td>-0.533876</td>\n",
       "      <td>-0.589511</td>\n",
       "      <td>0.490536</td>\n",
       "      <td>-0.144853</td>\n",
       "      <td>-0.223697</td>\n",
       "      <td>-0.438334</td>\n",
       "      <td>0.872534</td>\n",
       "      <td>-0.088780</td>\n",
       "      <td>-0.468073</td>\n",
       "      <td>0.620389</td>\n",
       "      <td>DERMASON</td>\n",
       "      <td>5</td>\n",
       "    </tr>\n",
       "    <tr>\n",
       "      <th>3</th>\n",
       "      <td>-0.838653</td>\n",
       "      <td>-1.108484</td>\n",
       "      <td>-1.062127</td>\n",
       "      <td>-0.976051</td>\n",
       "      <td>-0.554184</td>\n",
       "      <td>-0.308867</td>\n",
       "      <td>-0.841153</td>\n",
       "      <td>-1.058738</td>\n",
       "      <td>-0.611467</td>\n",
       "      <td>0.702922</td>\n",
       "      <td>1.079409</td>\n",
       "      <td>0.503923</td>\n",
       "      <td>1.317531</td>\n",
       "      <td>1.097331</td>\n",
       "      <td>0.473973</td>\n",
       "      <td>0.848791</td>\n",
       "      <td>DERMASON</td>\n",
       "      <td>0</td>\n",
       "    </tr>\n",
       "    <tr>\n",
       "      <th>4</th>\n",
       "      <td>-0.737199</td>\n",
       "      <td>-0.942103</td>\n",
       "      <td>-1.016637</td>\n",
       "      <td>-0.665065</td>\n",
       "      <td>-0.942534</td>\n",
       "      <td>-0.855065</td>\n",
       "      <td>-0.736089</td>\n",
       "      <td>-0.894760</td>\n",
       "      <td>0.276420</td>\n",
       "      <td>-0.127050</td>\n",
       "      <td>0.879464</td>\n",
       "      <td>0.958400</td>\n",
       "      <td>0.751141</td>\n",
       "      <td>1.298062</td>\n",
       "      <td>0.952659</td>\n",
       "      <td>0.371536</td>\n",
       "      <td>DERMASON</td>\n",
       "      <td>0</td>\n",
       "    </tr>\n",
       "  </tbody>\n",
       "</table>\n",
       "</div>"
      ],
      "text/plain": [
       "       Area  Perimeter  MajorAxisLength  MinorAxisLength  AspectRation  \\\n",
       "0  0.330912   0.386530         0.433875         0.495376      0.032255   \n",
       "1 -0.751323  -0.970132        -0.999753        -0.742657     -0.793135   \n",
       "2 -0.534835  -0.542571        -0.442787        -0.738557      0.354647   \n",
       "3 -0.838653  -1.108484        -1.062127        -0.976051     -0.554184   \n",
       "4 -0.737199  -0.942103        -1.016637        -0.665065     -0.942534   \n",
       "\n",
       "   Eccentricity  ConvexArea  EquivDiameter    Extent  Solidity  roundness  \\\n",
       "0      0.291966    0.322093       0.500201  0.523431  0.733752   0.387430   \n",
       "1     -0.626813   -0.751045      -0.917106  0.602389  0.045553   0.960892   \n",
       "2      0.544892   -0.533876      -0.589511  0.490536 -0.144853  -0.223697   \n",
       "3     -0.308867   -0.841153      -1.058738 -0.611467  0.702922   1.079409   \n",
       "4     -0.855065   -0.736089      -0.894760  0.276420 -0.127050   0.879464   \n",
       "\n",
       "   Compactness  ShapeFactor1  ShapeFactor2  ShapeFactor3  ShapeFactor4  \\\n",
       "0    -0.140419     -0.772249     -0.572536     -0.177576      0.216201   \n",
       "1     0.779499      0.880266      1.166401      0.762340      0.606074   \n",
       "2    -0.438334      0.872534     -0.088780     -0.468073      0.620389   \n",
       "3     0.503923      1.317531      1.097331      0.473973      0.848791   \n",
       "4     0.958400      0.751141      1.298062      0.952659      0.371536   \n",
       "\n",
       "      Class  Clusters  \n",
       "0      CALI         6  \n",
       "1  DERMASON         0  \n",
       "2  DERMASON         5  \n",
       "3  DERMASON         0  \n",
       "4  DERMASON         0  "
      ]
     },
     "execution_count": 14,
     "metadata": {},
     "output_type": "execute_result"
    }
   ],
   "source": [
    "train_data_Scale.head()"
   ]
  },
  {
   "cell_type": "code",
   "execution_count": 15,
   "id": "4aabc8b7",
   "metadata": {},
   "outputs": [
    {
     "data": {
      "text/plain": [
       "array([6, 0, 5, 4, 2, 3, 1])"
      ]
     },
     "execution_count": 15,
     "metadata": {},
     "output_type": "execute_result"
    }
   ],
   "source": [
    "train_data_Scale.Clusters.unique()"
   ]
  },
  {
   "cell_type": "markdown",
   "id": "a04e8cc2",
   "metadata": {},
   "source": [
    "## Get best model of each cluster"
   ]
  },
  {
   "cell_type": "code",
   "execution_count": 16,
   "id": "6668072f",
   "metadata": {},
   "outputs": [],
   "source": [
    "def optimal_k_means(data, max_k):\n",
    "    means =[]\n",
    "    inertias =[]\n",
    "    for k in range(1,max_k):\n",
    "        kmeans = KMeans(n_clusters=k)\n",
    "        kmeans.fit(data)\n",
    "        means.append(k)\n",
    "        inertias.append(kmeans.inertia_)\n",
    "        \n",
    "    #Generate Elbow plot\n",
    "    fig = plt.subplots(figsize=(10,5))\n",
    "    plt.plot(means, inertias, 'o-')\n",
    "    plt.xlabel(\"Number of clusters\")\n",
    "    plt.ylabel(\"Inertia\")\n",
    "    plt.grid(True)\n",
    "    plt.show()"
   ]
  },
  {
   "cell_type": "code",
   "execution_count": 17,
   "id": "961e5a3a",
   "metadata": {
    "scrolled": true
   },
   "outputs": [
    {
     "data": {
      "image/png": "[encoded data removed]",
      "text/plain": [
       "<Figure size 720x360 with 1 Axes>"
      ]
     },
     "metadata": {
      "needs_background": "light"
     },
     "output_type": "display_data"
    }
   ],
   "source": [
    "optimal_k_means(train_data_Scale[['Area', 'Perimeter', 'MajorAxisLength', 'MinorAxisLength',\n",
    "       'AspectRation', 'Eccentricity', 'ConvexArea', 'EquivDiameter', 'Extent',\n",
    "       'Solidity', 'roundness', 'Compactness', 'ShapeFactor1', 'ShapeFactor2',\n",
    "       'ShapeFactor3', 'ShapeFactor4']], 20)"
   ]
  },
  {
   "cell_type": "markdown",
   "id": "036285c3",
   "metadata": {},
   "source": [
    "## Model selection usig RandomForestClassifier"
   ]
  },
  {
   "cell_type": "code",
   "execution_count": 18,
   "id": "b26c9a15",
   "metadata": {},
   "outputs": [],
   "source": [
    "#defining Model\n",
    "from sklearn.ensemble import RandomForestClassifier\n"
   ]
  },
  {
   "cell_type": "code",
   "execution_count": 19,
   "id": "8493b476",
   "metadata": {},
   "outputs": [],
   "source": [
    "X_train = train_data_Scale.drop(['Class','Clusters'], axis=1)\n",
    "y_train = train_data_Scale['Class']"
   ]
  },
  {
   "cell_type": "code",
   "execution_count": 20,
   "id": "d9e2e4af",
   "metadata": {},
   "outputs": [],
   "source": [
    "#Scale train data also before giving to model\n",
    "#call Standardscaler \n",
    "std_scaler = StandardScaler()\n",
    "\n",
    "test_data_Scale = test_data\n",
    "#fit valuse to function\n",
    "test_data_Scale[['Area', 'Perimeter', 'MajorAxisLength', 'MinorAxisLength',\n",
    "       'AspectRation', 'Eccentricity', 'ConvexArea', 'EquivDiameter', 'Extent',\n",
    "       'Solidity', 'roundness', 'Compactness', 'ShapeFactor1', 'ShapeFactor2',\n",
    "       'ShapeFactor3', 'ShapeFactor4']] = std_scaler.fit_transform(test_data_Scale[['Area', 'Perimeter', 'MajorAxisLength', 'MinorAxisLength',\n",
    "       'AspectRation', 'Eccentricity', 'ConvexArea', 'EquivDiameter', 'Extent',\n",
    "       'Solidity', 'roundness', 'Compactness', 'ShapeFactor1', 'ShapeFactor2',\n",
    "       'ShapeFactor3', 'ShapeFactor4']])\n",
    "\n",
    "X_test = test_data.drop('Class', axis=1)\n",
    "y_test = test_data[\"Class\"]"
   ]
  },
  {
   "cell_type": "code",
   "execution_count": 21,
   "id": "438463ce",
   "metadata": {},
   "outputs": [
    {
     "data": {
      "text/plain": [
       "0.9214876033057852"
      ]
     },
     "execution_count": 21,
     "metadata": {},
     "output_type": "execute_result"
    }
   ],
   "source": [
    "#Defining the model and finding it best parameters\n",
    "\n",
    "forest_clf = RandomForestClassifier()\n",
    "forest_clf.fit(X_train,y_train)\n",
    "forest_clf.score(X_test,y_test)"
   ]
  },
  {
   "cell_type": "markdown",
   "id": "4397dc65",
   "metadata": {},
   "source": [
    "## HyperParameter Tuning "
   ]
  },
  {
   "cell_type": "code",
   "execution_count": 22,
   "id": "d6be98e8",
   "metadata": {},
   "outputs": [],
   "source": [
    "from sklearn.model_selection import GridSearchCV"
   ]
  },
  {
   "cell_type": "code",
   "execution_count": 23,
   "id": "b9e4ed0c",
   "metadata": {},
   "outputs": [],
   "source": [
    "param_grid = { \n",
    "    'n_estimators': [20,30,40,50,100],\n",
    "    'max_features': ['auto', 'sqrt', 'log2'],\n",
    "    'max_depth' : [4,5,6,7,8],\n",
    "    'criterion' :['gini', 'entropy']\n",
    "}"
   ]
  },
  {
   "cell_type": "code",
   "execution_count": 24,
   "id": "43f9ee77",
   "metadata": {},
   "outputs": [
    {
     "data": {
      "text/plain": [
       "GridSearchCV(cv=5, estimator=RandomForestClassifier(),\n",
       "             param_grid={'criterion': ['gini', 'entropy'],\n",
       "                         'max_depth': [4, 5, 6, 7, 8],\n",
       "                         'max_features': ['auto', 'sqrt', 'log2'],\n",
       "                         'n_estimators': [20, 30, 40, 50, 100]})"
      ]
     },
     "execution_count": 24,
     "metadata": {},
     "output_type": "execute_result"
    }
   ],
   "source": [
    "CV_rfc = GridSearchCV(estimator=forest_clf, param_grid=param_grid, cv= 5)\n",
    "CV_rfc.fit(X_train, y_train)"
   ]
  },
  {
   "cell_type": "code",
   "execution_count": 25,
   "id": "d1783a62",
   "metadata": {},
   "outputs": [
    {
     "data": {
      "text/plain": [
       "{'criterion': 'entropy',\n",
       " 'max_depth': 8,\n",
       " 'max_features': 'auto',\n",
       " 'n_estimators': 50}"
      ]
     },
     "execution_count": 25,
     "metadata": {},
     "output_type": "execute_result"
    }
   ],
   "source": [
    "CV_rfc.best_params_"
   ]
  },
  {
   "cell_type": "code",
   "execution_count": 26,
   "id": "739f8449",
   "metadata": {},
   "outputs": [
    {
     "data": {
      "text/plain": [
       "RandomForestClassifier(criterion='entropy', max_depth=8, n_estimators=50)"
      ]
     },
     "execution_count": 26,
     "metadata": {},
     "output_type": "execute_result"
    }
   ],
   "source": [
    "CV_rfc.best_estimator_"
   ]
  },
  {
   "cell_type": "code",
   "execution_count": 27,
   "id": "2f525fd3",
   "metadata": {},
   "outputs": [],
   "source": [
    "# cvres = CV_rfc.cv_results_\n",
    "# for mean_score, params in zip(cvres['mean_test_score'], cvres['params']):\n",
    "#     print(np.sqrt(-mean_score), params)\n",
    "    "
   ]
  },
  {
   "cell_type": "code",
   "execution_count": 34,
   "id": "829d902e",
   "metadata": {},
   "outputs": [],
   "source": [
    "rfc1=RandomForestClassifier(random_state=42, max_features='auto', n_estimators= 50, max_depth=8, criterion='entropy')"
   ]
  },
  {
   "cell_type": "code",
   "execution_count": 35,
   "id": "ccf018dd",
   "metadata": {},
   "outputs": [
    {
     "data": {
      "text/plain": [
       "RandomForestClassifier(criterion='entropy', max_depth=8, n_estimators=50,\n",
       "                       random_state=42)"
      ]
     },
     "execution_count": 35,
     "metadata": {},
     "output_type": "execute_result"
    }
   ],
   "source": [
    "rfc1.fit(X_train, y_train)"
   ]
  },
  {
   "cell_type": "code",
   "execution_count": 36,
   "id": "4d588702",
   "metadata": {},
   "outputs": [
    {
     "data": {
      "text/plain": [
       "0.9173553719008265"
      ]
     },
     "execution_count": 36,
     "metadata": {},
     "output_type": "execute_result"
    }
   ],
   "source": [
    "rfc1.score(X_test,y_test)"
   ]
  },
  {
   "cell_type": "code",
   "execution_count": 37,
   "id": "7342596b",
   "metadata": {},
   "outputs": [
    {
     "data": {
      "text/plain": [
       "array(['DERMASON', 'DERMASON', 'SEKER', ..., 'HOROZ', 'BOMBAY',\n",
       "       'DERMASON'], dtype=object)"
      ]
     },
     "execution_count": 37,
     "metadata": {},
     "output_type": "execute_result"
    }
   ],
   "source": [
    "pred=rfc1.predict(X_test)\n",
    "pred"
   ]
  },
  {
   "cell_type": "code",
   "execution_count": 38,
   "id": "b6ff47e7",
   "metadata": {},
   "outputs": [
    {
     "name": "stdout",
     "output_type": "stream",
     "text": [
      "Accuracy for Random Forest on CV data:  0.9173553719008265\n"
     ]
    }
   ],
   "source": [
    "from sklearn.metrics import accuracy_score\n",
    "print(\"Accuracy for Random Forest on CV data: \",accuracy_score(y_test,pred))"
   ]
  },
  {
   "cell_type": "markdown",
   "id": "608c9752",
   "metadata": {},
   "source": [
    "# Saving Model "
   ]
  },
  {
   "cell_type": "code",
   "execution_count": 40,
   "id": "93aafc38",
   "metadata": {},
   "outputs": [],
   "source": [
    "# importting  pickle library\n",
    "import pickle"
   ]
  },
  {
   "cell_type": "code",
   "execution_count": 41,
   "id": "6587c88e",
   "metadata": {},
   "outputs": [],
   "source": [
    "#here we are converting our model to binary fiel using pickle lib as model.pkl\n",
    "pickle.dump(rfc1, open('model.pkl', 'wb'))"
   ]
  },
  {
   "cell_type": "code",
   "execution_count": null,
   "id": "71c3102e",
   "metadata": {},
   "outputs": [],
   "source": []
  }
 ],
 "metadata": {
  "kernelspec": {
   "display_name": "Python 3 (ipykernel)",
   "language": "python",
   "name": "python3"
  },
  "language_info": {
   "codemirror_mode": {
    "name": "ipython",
    "version": 3
   },
   "file_extension": ".py",
   "mimetype": "text/x-python",
   "name": "python",
   "nbconvert_exporter": "python",
   "pygments_lexer": "ipython3",
   "version": "3.9.12"
  }
 },
 "nbformat": 4,
 "nbformat_minor": 5
}
