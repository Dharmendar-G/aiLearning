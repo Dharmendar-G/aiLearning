{
 "cells": [
  {
   "cell_type": "markdown",
   "id": "c1361d61",
   "metadata": {},
   "source": [
    "# DryBeenClassification"
   ]
  },
  {
   "cell_type": "code",
   "execution_count": null,
   "id": "902681de",
   "metadata": {},
   "outputs": [],
   "source": []
  },
  {
   "cell_type": "code",
   "execution_count": 32,
   "id": "a04bc95e",
   "metadata": {},
   "outputs": [],
   "source": [
    "#import Important liabraries\n",
    "import pandas as pd\n",
    "import numpy as np"
   ]
  },
  {
   "cell_type": "code",
   "execution_count": 2,
   "id": "b4adab50",
   "metadata": {},
   "outputs": [
    {
     "name": "stdout",
     "output_type": "stream",
     "text": [
      "original dataset shape:::: (13611, 17)\n",
      "Training dataset new shape and length ::: (8710, 17)\n",
      "Testing dataset new shape and length ::: (2723, 17)\n",
      "Validation dataset new shape and length ::: (2178, 17)\n"
     ]
    }
   ],
   "source": [
    "#Read Downloaded dataset\n",
    "df = pd.read_excel('Dry_Bean_Dataset.xlsx')\n",
    "\n",
    "#findin the shape of dataset\n",
    "print(\"original dataset shape::::\",df.shape)\n",
    "\n",
    "#use sklearn model to split dataset into training and test\n",
    "from sklearn.model_selection import train_test_split\n",
    "\n",
    "train_data, test_data = train_test_split(df, test_size=0.20, random_state=42)\n",
    "\n",
    "#splotting train_data into train and validation datasets seperatly\n",
    "\n",
    "train2, val = train_test_split(train_data, test_size=0.20, random_state=42)\n",
    "\n",
    "print(\"Training dataset new shape and length :::\", train2.shape)\n",
    "print(\"Testing dataset new shape and length :::\", test_data.shape)\n",
    "print(\"Validation dataset new shape and length :::\", val.shape)\n"
   ]
  },
  {
   "cell_type": "code",
   "execution_count": 3,
   "id": "602a79c5",
   "metadata": {},
   "outputs": [
    {
     "name": "stdout",
     "output_type": "stream",
     "text": [
      "converted data into dictionary format...>>>>>\n"
     ]
    }
   ],
   "source": [
    "#'dict', 'list', 'series', 'split', 'records', 'index' \n",
    "#convet all datasets in to dictionary for insertion into mongodb.\n",
    "\n",
    "train_data = train2.to_dict(orient='records')\n",
    "test_data = test_data.to_dict(orient='records')\n",
    "val_data=val.to_dict(orient='records')\n",
    "\n",
    "print(\"converted data into dictionary format...>>>>>\")\n"
   ]
  },
  {
   "cell_type": "code",
   "execution_count": 5,
   "id": "e35ab06d",
   "metadata": {},
   "outputs": [
    {
     "name": "stdout",
     "output_type": "stream",
     "text": [
      "all data is inserted into Mongodb database>>>>>>>>>>>>..\n"
     ]
    }
   ],
   "source": [
    "#import datasets into Mongo-db\n",
    "import pymongo\n",
    "\n",
    "#create connection to mongodb local host at ipadd:27017\n",
    "myclient = pymongo.MongoClient('mongodb://localhost:27017/')\n",
    "\n",
    "#create database in mongo db\n",
    "mydb = myclient['project080422']\n",
    "\n",
    "#create collections in mydb databases\n",
    "mycol_train = mydb['train_data']\n",
    "mycol_test = mydb['test_data']\n",
    "mycol_val = mydb['validation_data']\n",
    "\n",
    "#Insert data into collection\n",
    "train = mycol_train.insert_many(train_data)\n",
    "test = mycol_test.insert_many(test_data)\n",
    "val = mycol_val.insert_many(val_data)\n",
    "print(\"all data is inserted into Mongodb database>>>>>>>>>>>>..\")"
   ]
  },
  {
   "cell_type": "markdown",
   "id": "093ec89a",
   "metadata": {},
   "source": [
    "## Export data from database to CSV for training"
   ]
  },
  {
   "cell_type": "code",
   "execution_count": 9,
   "id": "b77bc6bc",
   "metadata": {},
   "outputs": [
    {
     "name": "stdout",
     "output_type": "stream",
     "text": [
      "['Images', 'MachineLearning', 'WebScraching', 'admin', 'config', 'database', 'local', 'project080422', 'shubhamdata']\n"
     ]
    }
   ],
   "source": [
    "#printing list of databased present in mongodb\n",
    "print(myclient.list_database_names())"
   ]
  },
  {
   "cell_type": "code",
   "execution_count": 8,
   "id": "63eff0d0",
   "metadata": {},
   "outputs": [
    {
     "name": "stdout",
     "output_type": "stream",
     "text": [
      "['test_data', 'train_data', 'validation_data']\n"
     ]
    }
   ],
   "source": [
    "#printing list of of collections presert in respected databse (project080422).\n",
    "print(mydb.list_collection_names())"
   ]
  },
  {
   "cell_type": "code",
   "execution_count": 16,
   "id": "ee9151dc",
   "metadata": {},
   "outputs": [],
   "source": [
    "allrecords = mydb.train_data.find()\n",
    "list_courser = list(allrecords)"
   ]
  },
  {
   "cell_type": "code",
   "execution_count": 19,
   "id": "3b256225",
   "metadata": {},
   "outputs": [],
   "source": [
    "#creating dataframe from fetched data from database and droping \"_id \" columns from database.\n",
    "df = pd.DataFrame(list_courser).drop('_id',axis=1)\n",
    "\n",
    "#converting this dataframe to .csv file for better training.\n",
    "df.to_csv(\"Train_data.csv\")\n",
    "print(\"data is downloaded from batabase and converted CSV>.....>>>>>>>>>>\")"
   ]
  },
  {
   "cell_type": "markdown",
   "id": "c69f6c46",
   "metadata": {},
   "source": [
    "## Reading data form csv file"
   ]
  },
  {
   "cell_type": "code",
   "execution_count": 12,
   "id": "73b904c5",
   "metadata": {},
   "outputs": [],
   "source": [
    "#Reading data form csv file\n",
    "df = pd.read_csv('Train_data.csv').drop('Unnamed: 0', axis=1)"
   ]
  },
  {
   "cell_type": "markdown",
   "id": "c7efecdc",
   "metadata": {},
   "source": [
    "## Data preprocessing"
   ]
  },
  {
   "cell_type": "code",
   "execution_count": 13,
   "id": "570dbf78",
   "metadata": {},
   "outputs": [],
   "source": [
    "#impotr liabraries for data visualization and pre processing\n",
    "import pandas as pd\n",
    "import numpy as np\n",
    "import matplotlib.pyplot as plt\n",
    "import seaborn as sns\n",
    "import warnings\n",
    "warnings.filterwarnings('ignore')\n",
    "%matplotlib inline"
   ]
  },
  {
   "cell_type": "code",
   "execution_count": 14,
   "id": "ba1d52d7",
   "metadata": {},
   "outputs": [
    {
     "data": {
      "text/plain": [
       "Index(['Area', 'Perimeter', 'MajorAxisLength', 'MinorAxisLength',\n",
       "       'AspectRation', 'Eccentricity', 'ConvexArea', 'EquivDiameter', 'Extent',\n",
       "       'Solidity', 'roundness', 'Compactness', 'ShapeFactor1', 'ShapeFactor2',\n",
       "       'ShapeFactor3', 'ShapeFactor4', 'Class'],\n",
       "      dtype='object')"
      ]
     },
     "execution_count": 14,
     "metadata": {},
     "output_type": "execute_result"
    }
   ],
   "source": [
    "df.columns"
   ]
  },
  {
   "cell_type": "code",
   "execution_count": 15,
   "id": "f804c646",
   "metadata": {},
   "outputs": [
    {
     "data": {
      "text/plain": [
       "<matplotlib.collections.PathCollection at 0x16a121704f0>"
      ]
     },
     "execution_count": 15,
     "metadata": {},
     "output_type": "execute_result"
    },
    {
     "data": {
      "image/png": "[encoded data removed]",
      "text/plain": [
       "<Figure size 432x288 with 1 Axes>"
      ]
     },
     "metadata": {
      "needs_background": "light"
     },
     "output_type": "display_data"
    }
   ],
   "source": [
    "plt.scatter(df['ShapeFactor4'],df['Class'])"
   ]
  },
  {
   "cell_type": "code",
   "execution_count": 16,
   "id": "8304024e",
   "metadata": {
    "scrolled": false
   },
   "outputs": [
    {
     "data": {
      "image/png": "[encoded data removed]",
      "text/plain": [
       "<Figure size 432x288 with 1 Axes>"
      ]
     },
     "metadata": {
      "needs_background": "light"
     },
     "output_type": "display_data"
    }
   ],
   "source": [
    "sns.violinplot(df['Perimeter'],df['Class'])\n",
    "plt.show()"
   ]
  },
  {
   "cell_type": "markdown",
   "id": "f80ee82f",
   "metadata": {},
   "source": [
    "## Splitting data into train and test validation data"
   ]
  },
  {
   "cell_type": "code",
   "execution_count": 17,
   "id": "5d83d07d",
   "metadata": {},
   "outputs": [],
   "source": [
    "from sklearn.model_selection import train_test_split\n",
    "X_train,X_test,y_train,y_test = train_test_split(df.drop('Class',axis=1), df['Class'], test_size=0.3)"
   ]
  },
  {
   "cell_type": "code",
   "execution_count": null,
   "id": "13e42a14",
   "metadata": {},
   "outputs": [],
   "source": []
  },
  {
   "cell_type": "markdown",
   "id": "da87c007",
   "metadata": {},
   "source": [
    "### Scaling data"
   ]
  },
  {
   "cell_type": "code",
   "execution_count": 18,
   "id": "2cb9f623",
   "metadata": {},
   "outputs": [],
   "source": [
    "#Call the sklearn librart and import scaler values\n",
    "from sklearn.preprocessing import StandardScaler"
   ]
  },
  {
   "cell_type": "code",
   "execution_count": 19,
   "id": "e4733308",
   "metadata": {},
   "outputs": [],
   "source": [
    "#call Standardscaler \n",
    "std_scaler = StandardScaler()\n",
    "\n",
    "#fit valuse to function\n",
    "df[['Area', 'Perimeter', 'MajorAxisLength', 'MinorAxisLength',\n",
    "       'AspectRation', 'Eccentricity', 'ConvexArea', 'EquivDiameter', 'Extent',\n",
    "       'Solidity', 'roundness', 'Compactness', 'ShapeFactor1', 'ShapeFactor2',\n",
    "       'ShapeFactor3', 'ShapeFactor4']] = std_scaler.fit_transform(df[['Area', 'Perimeter', 'MajorAxisLength', 'MinorAxisLength',\n",
    "       'AspectRation', 'Eccentricity', 'ConvexArea', 'EquivDiameter', 'Extent',\n",
    "       'Solidity', 'roundness', 'Compactness', 'ShapeFactor1', 'ShapeFactor2',\n",
    "       'ShapeFactor3', 'ShapeFactor4']])"
   ]
  },
  {
   "cell_type": "code",
   "execution_count": 20,
   "id": "ab8f595b",
   "metadata": {},
   "outputs": [
    {
     "data": {
      "text/html": [
       "<div>\n",
       "<style scoped>\n",
       "    .dataframe tbody tr th:only-of-type {\n",
       "        vertical-align: middle;\n",
       "    }\n",
       "\n",
       "    .dataframe tbody tr th {\n",
       "        vertical-align: top;\n",
       "    }\n",
       "\n",
       "    .dataframe thead th {\n",
       "        text-align: right;\n",
       "    }\n",
       "</style>\n",
       "<table border=\"1\" class=\"dataframe\">\n",
       "  <thead>\n",
       "    <tr style=\"text-align: right;\">\n",
       "      <th></th>\n",
       "      <th>Area</th>\n",
       "      <th>Perimeter</th>\n",
       "      <th>MajorAxisLength</th>\n",
       "      <th>MinorAxisLength</th>\n",
       "      <th>AspectRation</th>\n",
       "      <th>Eccentricity</th>\n",
       "      <th>ConvexArea</th>\n",
       "      <th>EquivDiameter</th>\n",
       "      <th>Extent</th>\n",
       "      <th>Solidity</th>\n",
       "      <th>roundness</th>\n",
       "      <th>Compactness</th>\n",
       "      <th>ShapeFactor1</th>\n",
       "      <th>ShapeFactor2</th>\n",
       "      <th>ShapeFactor3</th>\n",
       "      <th>ShapeFactor4</th>\n",
       "      <th>Class</th>\n",
       "    </tr>\n",
       "  </thead>\n",
       "  <tbody>\n",
       "    <tr>\n",
       "      <th>0</th>\n",
       "      <td>0.330912</td>\n",
       "      <td>0.386530</td>\n",
       "      <td>0.433875</td>\n",
       "      <td>0.495376</td>\n",
       "      <td>0.032255</td>\n",
       "      <td>0.291966</td>\n",
       "      <td>0.322093</td>\n",
       "      <td>0.500201</td>\n",
       "      <td>0.523431</td>\n",
       "      <td>0.733752</td>\n",
       "      <td>0.387430</td>\n",
       "      <td>-0.140419</td>\n",
       "      <td>-0.772249</td>\n",
       "      <td>-0.572536</td>\n",
       "      <td>-0.177576</td>\n",
       "      <td>0.216201</td>\n",
       "      <td>CALI</td>\n",
       "    </tr>\n",
       "    <tr>\n",
       "      <th>1</th>\n",
       "      <td>-0.751323</td>\n",
       "      <td>-0.970132</td>\n",
       "      <td>-0.999753</td>\n",
       "      <td>-0.742657</td>\n",
       "      <td>-0.793135</td>\n",
       "      <td>-0.626813</td>\n",
       "      <td>-0.751045</td>\n",
       "      <td>-0.917106</td>\n",
       "      <td>0.602389</td>\n",
       "      <td>0.045553</td>\n",
       "      <td>0.960892</td>\n",
       "      <td>0.779499</td>\n",
       "      <td>0.880266</td>\n",
       "      <td>1.166401</td>\n",
       "      <td>0.762340</td>\n",
       "      <td>0.606074</td>\n",
       "      <td>DERMASON</td>\n",
       "    </tr>\n",
       "    <tr>\n",
       "      <th>2</th>\n",
       "      <td>-0.534835</td>\n",
       "      <td>-0.542571</td>\n",
       "      <td>-0.442787</td>\n",
       "      <td>-0.738557</td>\n",
       "      <td>0.354647</td>\n",
       "      <td>0.544892</td>\n",
       "      <td>-0.533876</td>\n",
       "      <td>-0.589511</td>\n",
       "      <td>0.490536</td>\n",
       "      <td>-0.144853</td>\n",
       "      <td>-0.223697</td>\n",
       "      <td>-0.438334</td>\n",
       "      <td>0.872534</td>\n",
       "      <td>-0.088780</td>\n",
       "      <td>-0.468073</td>\n",
       "      <td>0.620389</td>\n",
       "      <td>DERMASON</td>\n",
       "    </tr>\n",
       "    <tr>\n",
       "      <th>3</th>\n",
       "      <td>-0.838653</td>\n",
       "      <td>-1.108484</td>\n",
       "      <td>-1.062127</td>\n",
       "      <td>-0.976051</td>\n",
       "      <td>-0.554184</td>\n",
       "      <td>-0.308867</td>\n",
       "      <td>-0.841153</td>\n",
       "      <td>-1.058738</td>\n",
       "      <td>-0.611467</td>\n",
       "      <td>0.702922</td>\n",
       "      <td>1.079409</td>\n",
       "      <td>0.503923</td>\n",
       "      <td>1.317531</td>\n",
       "      <td>1.097331</td>\n",
       "      <td>0.473973</td>\n",
       "      <td>0.848791</td>\n",
       "      <td>DERMASON</td>\n",
       "    </tr>\n",
       "    <tr>\n",
       "      <th>4</th>\n",
       "      <td>-0.737199</td>\n",
       "      <td>-0.942103</td>\n",
       "      <td>-1.016637</td>\n",
       "      <td>-0.665065</td>\n",
       "      <td>-0.942534</td>\n",
       "      <td>-0.855065</td>\n",
       "      <td>-0.736089</td>\n",
       "      <td>-0.894760</td>\n",
       "      <td>0.276420</td>\n",
       "      <td>-0.127050</td>\n",
       "      <td>0.879464</td>\n",
       "      <td>0.958400</td>\n",
       "      <td>0.751141</td>\n",
       "      <td>1.298062</td>\n",
       "      <td>0.952659</td>\n",
       "      <td>0.371536</td>\n",
       "      <td>DERMASON</td>\n",
       "    </tr>\n",
       "    <tr>\n",
       "      <th>...</th>\n",
       "      <td>...</td>\n",
       "      <td>...</td>\n",
       "      <td>...</td>\n",
       "      <td>...</td>\n",
       "      <td>...</td>\n",
       "      <td>...</td>\n",
       "      <td>...</td>\n",
       "      <td>...</td>\n",
       "      <td>...</td>\n",
       "      <td>...</td>\n",
       "      <td>...</td>\n",
       "      <td>...</td>\n",
       "      <td>...</td>\n",
       "      <td>...</td>\n",
       "      <td>...</td>\n",
       "      <td>...</td>\n",
       "      <td>...</td>\n",
       "    </tr>\n",
       "    <tr>\n",
       "      <th>8705</th>\n",
       "      <td>-0.523127</td>\n",
       "      <td>-0.658593</td>\n",
       "      <td>-0.767307</td>\n",
       "      <td>-0.287204</td>\n",
       "      <td>-0.978055</td>\n",
       "      <td>-0.913226</td>\n",
       "      <td>-0.526196</td>\n",
       "      <td>-0.572625</td>\n",
       "      <td>0.575449</td>\n",
       "      <td>0.526200</td>\n",
       "      <td>0.947451</td>\n",
       "      <td>1.006290</td>\n",
       "      <td>0.158946</td>\n",
       "      <td>0.971710</td>\n",
       "      <td>1.004021</td>\n",
       "      <td>0.455453</td>\n",
       "      <td>DERMASON</td>\n",
       "    </tr>\n",
       "    <tr>\n",
       "      <th>8706</th>\n",
       "      <td>0.090329</td>\n",
       "      <td>0.438030</td>\n",
       "      <td>0.666897</td>\n",
       "      <td>-0.294405</td>\n",
       "      <td>1.687310</td>\n",
       "      <td>1.251453</td>\n",
       "      <td>0.087988</td>\n",
       "      <td>0.224043</td>\n",
       "      <td>-0.820177</td>\n",
       "      <td>0.143831</td>\n",
       "      <td>-1.620703</td>\n",
       "      <td>-1.531655</td>\n",
       "      <td>0.182040</td>\n",
       "      <td>-1.142907</td>\n",
       "      <td>-1.475919</td>\n",
       "      <td>-0.038939</td>\n",
       "      <td>HOROZ</td>\n",
       "    </tr>\n",
       "    <tr>\n",
       "      <th>8707</th>\n",
       "      <td>-0.252832</td>\n",
       "      <td>-0.240543</td>\n",
       "      <td>-0.275875</td>\n",
       "      <td>-0.129586</td>\n",
       "      <td>-0.300788</td>\n",
       "      <td>-0.022607</td>\n",
       "      <td>-0.254466</td>\n",
       "      <td>-0.202272</td>\n",
       "      <td>-0.063166</td>\n",
       "      <td>0.166416</td>\n",
       "      <td>0.248748</td>\n",
       "      <td>0.216814</td>\n",
       "      <td>-0.061933</td>\n",
       "      <td>0.060277</td>\n",
       "      <td>0.179725</td>\n",
       "      <td>0.662426</td>\n",
       "      <td>BARBUNYA</td>\n",
       "    </tr>\n",
       "    <tr>\n",
       "      <th>8708</th>\n",
       "      <td>0.889880</td>\n",
       "      <td>1.166828</td>\n",
       "      <td>0.726068</td>\n",
       "      <td>1.389776</td>\n",
       "      <td>-0.569794</td>\n",
       "      <td>-0.328088</td>\n",
       "      <td>0.897847</td>\n",
       "      <td>1.087015</td>\n",
       "      <td>0.127090</td>\n",
       "      <td>-0.831444</td>\n",
       "      <td>-0.997073</td>\n",
       "      <td>0.498399</td>\n",
       "      <td>-1.534268</td>\n",
       "      <td>-0.504662</td>\n",
       "      <td>0.468253</td>\n",
       "      <td>0.051540</td>\n",
       "      <td>BARBUNYA</td>\n",
       "    </tr>\n",
       "    <tr>\n",
       "      <th>8709</th>\n",
       "      <td>-0.372086</td>\n",
       "      <td>-0.411863</td>\n",
       "      <td>-0.542026</td>\n",
       "      <td>-0.080495</td>\n",
       "      <td>-0.838311</td>\n",
       "      <td>-0.693190</td>\n",
       "      <td>-0.365029</td>\n",
       "      <td>-0.361330</td>\n",
       "      <td>0.622067</td>\n",
       "      <td>-1.078367</td>\n",
       "      <td>0.456745</td>\n",
       "      <td>0.760974</td>\n",
       "      <td>-0.063511</td>\n",
       "      <td>0.574442</td>\n",
       "      <td>0.742773</td>\n",
       "      <td>-1.843221</td>\n",
       "      <td>SIRA</td>\n",
       "    </tr>\n",
       "  </tbody>\n",
       "</table>\n",
       "<p>8710 rows × 17 columns</p>\n",
       "</div>"
      ],
      "text/plain": [
       "          Area  Perimeter  MajorAxisLength  MinorAxisLength  AspectRation  \\\n",
       "0     0.330912   0.386530         0.433875         0.495376      0.032255   \n",
       "1    -0.751323  -0.970132        -0.999753        -0.742657     -0.793135   \n",
       "2    -0.534835  -0.542571        -0.442787        -0.738557      0.354647   \n",
       "3    -0.838653  -1.108484        -1.062127        -0.976051     -0.554184   \n",
       "4    -0.737199  -0.942103        -1.016637        -0.665065     -0.942534   \n",
       "...        ...        ...              ...              ...           ...   \n",
       "8705 -0.523127  -0.658593        -0.767307        -0.287204     -0.978055   \n",
       "8706  0.090329   0.438030         0.666897        -0.294405      1.687310   \n",
       "8707 -0.252832  -0.240543        -0.275875        -0.129586     -0.300788   \n",
       "8708  0.889880   1.166828         0.726068         1.389776     -0.569794   \n",
       "8709 -0.372086  -0.411863        -0.542026        -0.080495     -0.838311   \n",
       "\n",
       "      Eccentricity  ConvexArea  EquivDiameter    Extent  Solidity  roundness  \\\n",
       "0         0.291966    0.322093       0.500201  0.523431  0.733752   0.387430   \n",
       "1        -0.626813   -0.751045      -0.917106  0.602389  0.045553   0.960892   \n",
       "2         0.544892   -0.533876      -0.589511  0.490536 -0.144853  -0.223697   \n",
       "3        -0.308867   -0.841153      -1.058738 -0.611467  0.702922   1.079409   \n",
       "4        -0.855065   -0.736089      -0.894760  0.276420 -0.127050   0.879464   \n",
       "...            ...         ...            ...       ...       ...        ...   \n",
       "8705     -0.913226   -0.526196      -0.572625  0.575449  0.526200   0.947451   \n",
       "8706      1.251453    0.087988       0.224043 -0.820177  0.143831  -1.620703   \n",
       "8707     -0.022607   -0.254466      -0.202272 -0.063166  0.166416   0.248748   \n",
       "8708     -0.328088    0.897847       1.087015  0.127090 -0.831444  -0.997073   \n",
       "8709     -0.693190   -0.365029      -0.361330  0.622067 -1.078367   0.456745   \n",
       "\n",
       "      Compactness  ShapeFactor1  ShapeFactor2  ShapeFactor3  ShapeFactor4  \\\n",
       "0       -0.140419     -0.772249     -0.572536     -0.177576      0.216201   \n",
       "1        0.779499      0.880266      1.166401      0.762340      0.606074   \n",
       "2       -0.438334      0.872534     -0.088780     -0.468073      0.620389   \n",
       "3        0.503923      1.317531      1.097331      0.473973      0.848791   \n",
       "4        0.958400      0.751141      1.298062      0.952659      0.371536   \n",
       "...           ...           ...           ...           ...           ...   \n",
       "8705     1.006290      0.158946      0.971710      1.004021      0.455453   \n",
       "8706    -1.531655      0.182040     -1.142907     -1.475919     -0.038939   \n",
       "8707     0.216814     -0.061933      0.060277      0.179725      0.662426   \n",
       "8708     0.498399     -1.534268     -0.504662      0.468253      0.051540   \n",
       "8709     0.760974     -0.063511      0.574442      0.742773     -1.843221   \n",
       "\n",
       "         Class  \n",
       "0         CALI  \n",
       "1     DERMASON  \n",
       "2     DERMASON  \n",
       "3     DERMASON  \n",
       "4     DERMASON  \n",
       "...        ...  \n",
       "8705  DERMASON  \n",
       "8706     HOROZ  \n",
       "8707  BARBUNYA  \n",
       "8708  BARBUNYA  \n",
       "8709      SIRA  \n",
       "\n",
       "[8710 rows x 17 columns]"
      ]
     },
     "execution_count": 20,
     "metadata": {},
     "output_type": "execute_result"
    }
   ],
   "source": [
    "df"
   ]
  },
  {
   "cell_type": "code",
   "execution_count": 21,
   "id": "3f3515b1",
   "metadata": {},
   "outputs": [],
   "source": [
    "import seaborn as sns"
   ]
  },
  {
   "cell_type": "code",
   "execution_count": 22,
   "id": "90ddc4f9",
   "metadata": {},
   "outputs": [
    {
     "data": {
      "text/plain": [
       "<matplotlib.collections.PathCollection at 0x16a12262d30>"
      ]
     },
     "execution_count": 22,
     "metadata": {},
     "output_type": "execute_result"
    },
    {
     "data": {
      "image/png": "[encoded data removed]",
      "text/plain": [
       "<Figure size 432x288 with 1 Axes>"
      ]
     },
     "metadata": {
      "needs_background": "light"
     },
     "output_type": "display_data"
    }
   ],
   "source": [
    "plt.scatter(df['Extent'],df['ShapeFactor2'])"
   ]
  },
  {
   "cell_type": "code",
   "execution_count": 23,
   "id": "f02cb5b5",
   "metadata": {},
   "outputs": [
    {
     "data": {
      "text/plain": [
       "7"
      ]
     },
     "execution_count": 23,
     "metadata": {},
     "output_type": "execute_result"
    }
   ],
   "source": [
    "len(df[\"Class\"].unique())"
   ]
  },
  {
   "cell_type": "markdown",
   "id": "c3830efc",
   "metadata": {},
   "source": [
    "## Data Clustering"
   ]
  },
  {
   "cell_type": "code",
   "execution_count": 24,
   "id": "aedf66fc",
   "metadata": {},
   "outputs": [],
   "source": [
    "#Importing KMeans for clustering\n",
    "from sklearn.cluster import KMeans"
   ]
  },
  {
   "cell_type": "code",
   "execution_count": 25,
   "id": "a1f4bc4d",
   "metadata": {},
   "outputs": [],
   "source": [
    "kmeans = KMeans(n_clusters=7, init='k-means++')\n",
    "kmeans= kmeans.fit(df[['Area', 'Perimeter', 'MajorAxisLength', 'MinorAxisLength',\n",
    "       'AspectRation', 'Eccentricity', 'ConvexArea', 'EquivDiameter', 'Extent',\n",
    "       'Solidity', 'roundness', 'Compactness', 'ShapeFactor1', 'ShapeFactor2',\n",
    "       'ShapeFactor3', 'ShapeFactor4']])"
   ]
  },
  {
   "cell_type": "code",
   "execution_count": 26,
   "id": "e01daef6",
   "metadata": {},
   "outputs": [],
   "source": [
    "df['Clusters'] = kmeans.labels_"
   ]
  },
  {
   "cell_type": "code",
   "execution_count": 27,
   "id": "29f28e38",
   "metadata": {},
   "outputs": [
    {
     "data": {
      "text/html": [
       "<div>\n",
       "<style scoped>\n",
       "    .dataframe tbody tr th:only-of-type {\n",
       "        vertical-align: middle;\n",
       "    }\n",
       "\n",
       "    .dataframe tbody tr th {\n",
       "        vertical-align: top;\n",
       "    }\n",
       "\n",
       "    .dataframe thead th {\n",
       "        text-align: right;\n",
       "    }\n",
       "</style>\n",
       "<table border=\"1\" class=\"dataframe\">\n",
       "  <thead>\n",
       "    <tr style=\"text-align: right;\">\n",
       "      <th></th>\n",
       "      <th>Area</th>\n",
       "      <th>Perimeter</th>\n",
       "      <th>MajorAxisLength</th>\n",
       "      <th>MinorAxisLength</th>\n",
       "      <th>AspectRation</th>\n",
       "      <th>Eccentricity</th>\n",
       "      <th>ConvexArea</th>\n",
       "      <th>EquivDiameter</th>\n",
       "      <th>Extent</th>\n",
       "      <th>Solidity</th>\n",
       "      <th>roundness</th>\n",
       "      <th>Compactness</th>\n",
       "      <th>ShapeFactor1</th>\n",
       "      <th>ShapeFactor2</th>\n",
       "      <th>ShapeFactor3</th>\n",
       "      <th>ShapeFactor4</th>\n",
       "      <th>Class</th>\n",
       "      <th>Clusters</th>\n",
       "    </tr>\n",
       "  </thead>\n",
       "  <tbody>\n",
       "    <tr>\n",
       "      <th>0</th>\n",
       "      <td>0.330912</td>\n",
       "      <td>0.386530</td>\n",
       "      <td>0.433875</td>\n",
       "      <td>0.495376</td>\n",
       "      <td>0.032255</td>\n",
       "      <td>0.291966</td>\n",
       "      <td>0.322093</td>\n",
       "      <td>0.500201</td>\n",
       "      <td>0.523431</td>\n",
       "      <td>0.733752</td>\n",
       "      <td>0.387430</td>\n",
       "      <td>-0.140419</td>\n",
       "      <td>-0.772249</td>\n",
       "      <td>-0.572536</td>\n",
       "      <td>-0.177576</td>\n",
       "      <td>0.216201</td>\n",
       "      <td>CALI</td>\n",
       "      <td>5</td>\n",
       "    </tr>\n",
       "    <tr>\n",
       "      <th>1</th>\n",
       "      <td>-0.751323</td>\n",
       "      <td>-0.970132</td>\n",
       "      <td>-0.999753</td>\n",
       "      <td>-0.742657</td>\n",
       "      <td>-0.793135</td>\n",
       "      <td>-0.626813</td>\n",
       "      <td>-0.751045</td>\n",
       "      <td>-0.917106</td>\n",
       "      <td>0.602389</td>\n",
       "      <td>0.045553</td>\n",
       "      <td>0.960892</td>\n",
       "      <td>0.779499</td>\n",
       "      <td>0.880266</td>\n",
       "      <td>1.166401</td>\n",
       "      <td>0.762340</td>\n",
       "      <td>0.606074</td>\n",
       "      <td>DERMASON</td>\n",
       "      <td>1</td>\n",
       "    </tr>\n",
       "    <tr>\n",
       "      <th>2</th>\n",
       "      <td>-0.534835</td>\n",
       "      <td>-0.542571</td>\n",
       "      <td>-0.442787</td>\n",
       "      <td>-0.738557</td>\n",
       "      <td>0.354647</td>\n",
       "      <td>0.544892</td>\n",
       "      <td>-0.533876</td>\n",
       "      <td>-0.589511</td>\n",
       "      <td>0.490536</td>\n",
       "      <td>-0.144853</td>\n",
       "      <td>-0.223697</td>\n",
       "      <td>-0.438334</td>\n",
       "      <td>0.872534</td>\n",
       "      <td>-0.088780</td>\n",
       "      <td>-0.468073</td>\n",
       "      <td>0.620389</td>\n",
       "      <td>DERMASON</td>\n",
       "      <td>6</td>\n",
       "    </tr>\n",
       "    <tr>\n",
       "      <th>3</th>\n",
       "      <td>-0.838653</td>\n",
       "      <td>-1.108484</td>\n",
       "      <td>-1.062127</td>\n",
       "      <td>-0.976051</td>\n",
       "      <td>-0.554184</td>\n",
       "      <td>-0.308867</td>\n",
       "      <td>-0.841153</td>\n",
       "      <td>-1.058738</td>\n",
       "      <td>-0.611467</td>\n",
       "      <td>0.702922</td>\n",
       "      <td>1.079409</td>\n",
       "      <td>0.503923</td>\n",
       "      <td>1.317531</td>\n",
       "      <td>1.097331</td>\n",
       "      <td>0.473973</td>\n",
       "      <td>0.848791</td>\n",
       "      <td>DERMASON</td>\n",
       "      <td>1</td>\n",
       "    </tr>\n",
       "    <tr>\n",
       "      <th>4</th>\n",
       "      <td>-0.737199</td>\n",
       "      <td>-0.942103</td>\n",
       "      <td>-1.016637</td>\n",
       "      <td>-0.665065</td>\n",
       "      <td>-0.942534</td>\n",
       "      <td>-0.855065</td>\n",
       "      <td>-0.736089</td>\n",
       "      <td>-0.894760</td>\n",
       "      <td>0.276420</td>\n",
       "      <td>-0.127050</td>\n",
       "      <td>0.879464</td>\n",
       "      <td>0.958400</td>\n",
       "      <td>0.751141</td>\n",
       "      <td>1.298062</td>\n",
       "      <td>0.952659</td>\n",
       "      <td>0.371536</td>\n",
       "      <td>DERMASON</td>\n",
       "      <td>1</td>\n",
       "    </tr>\n",
       "  </tbody>\n",
       "</table>\n",
       "</div>"
      ],
      "text/plain": [
       "       Area  Perimeter  MajorAxisLength  MinorAxisLength  AspectRation  \\\n",
       "0  0.330912   0.386530         0.433875         0.495376      0.032255   \n",
       "1 -0.751323  -0.970132        -0.999753        -0.742657     -0.793135   \n",
       "2 -0.534835  -0.542571        -0.442787        -0.738557      0.354647   \n",
       "3 -0.838653  -1.108484        -1.062127        -0.976051     -0.554184   \n",
       "4 -0.737199  -0.942103        -1.016637        -0.665065     -0.942534   \n",
       "\n",
       "   Eccentricity  ConvexArea  EquivDiameter    Extent  Solidity  roundness  \\\n",
       "0      0.291966    0.322093       0.500201  0.523431  0.733752   0.387430   \n",
       "1     -0.626813   -0.751045      -0.917106  0.602389  0.045553   0.960892   \n",
       "2      0.544892   -0.533876      -0.589511  0.490536 -0.144853  -0.223697   \n",
       "3     -0.308867   -0.841153      -1.058738 -0.611467  0.702922   1.079409   \n",
       "4     -0.855065   -0.736089      -0.894760  0.276420 -0.127050   0.879464   \n",
       "\n",
       "   Compactness  ShapeFactor1  ShapeFactor2  ShapeFactor3  ShapeFactor4  \\\n",
       "0    -0.140419     -0.772249     -0.572536     -0.177576      0.216201   \n",
       "1     0.779499      0.880266      1.166401      0.762340      0.606074   \n",
       "2    -0.438334      0.872534     -0.088780     -0.468073      0.620389   \n",
       "3     0.503923      1.317531      1.097331      0.473973      0.848791   \n",
       "4     0.958400      0.751141      1.298062      0.952659      0.371536   \n",
       "\n",
       "      Class  Clusters  \n",
       "0      CALI         5  \n",
       "1  DERMASON         1  \n",
       "2  DERMASON         6  \n",
       "3  DERMASON         1  \n",
       "4  DERMASON         1  "
      ]
     },
     "execution_count": 27,
     "metadata": {},
     "output_type": "execute_result"
    }
   ],
   "source": [
    "df.head()"
   ]
  },
  {
   "cell_type": "code",
   "execution_count": 28,
   "id": "4aabc8b7",
   "metadata": {},
   "outputs": [
    {
     "data": {
      "text/plain": [
       "array([5, 1, 6, 3, 2, 4, 0])"
      ]
     },
     "execution_count": 28,
     "metadata": {},
     "output_type": "execute_result"
    }
   ],
   "source": [
    "df.Clusters.unique()"
   ]
  },
  {
   "cell_type": "markdown",
   "id": "a04e8cc2",
   "metadata": {},
   "source": [
    "## Get best model of each cluster"
   ]
  },
  {
   "cell_type": "code",
   "execution_count": 29,
   "id": "6668072f",
   "metadata": {},
   "outputs": [],
   "source": [
    "def optimal_k_means(data, max_k):\n",
    "    means =[]\n",
    "    inertias =[]\n",
    "    for k in range(1,max_k):\n",
    "        kmeans = KMeans(n_clusters=k)\n",
    "        kmeans.fit(data)\n",
    "        means.append(k)\n",
    "        inertias.append(kmeans.inertia_)\n",
    "        \n",
    "    #Generate Elbow plot\n",
    "    fig = plt.subplots(figsize=(10,5))\n",
    "    plt.plot(means, inertias, 'o-')\n",
    "    plt.xlabel(\"Number of clusters\")\n",
    "    plt.ylabel(\"Inertia\")\n",
    "    plt.grid(True)\n",
    "    plt.show()"
   ]
  },
  {
   "cell_type": "code",
   "execution_count": 30,
   "id": "961e5a3a",
   "metadata": {
    "scrolled": true
   },
   "outputs": [
    {
     "data": {
      "image/png": "[encoded data removed]",
      "text/plain": [
       "<Figure size 720x360 with 1 Axes>"
      ]
     },
     "metadata": {
      "needs_background": "light"
     },
     "output_type": "display_data"
    }
   ],
   "source": [
    "optimal_k_means(df[['Area', 'Perimeter', 'MajorAxisLength', 'MinorAxisLength',\n",
    "       'AspectRation', 'Eccentricity', 'ConvexArea', 'EquivDiameter', 'Extent',\n",
    "       'Solidity', 'roundness', 'Compactness', 'ShapeFactor1', 'ShapeFactor2',\n",
    "       'ShapeFactor3', 'ShapeFactor4']], 15)"
   ]
  },
  {
   "cell_type": "markdown",
   "id": "036285c3",
   "metadata": {},
   "source": [
    "## Model selection usig RandomForestClassifier"
   ]
  },
  {
   "cell_type": "code",
   "execution_count": 32,
   "id": "b26c9a15",
   "metadata": {},
   "outputs": [],
   "source": [
    "from sklearn.ensemble import RandomForestClassifier\n"
   ]
  },
  {
   "cell_type": "code",
   "execution_count": null,
   "id": "438463ce",
   "metadata": {},
   "outputs": [],
   "source": [
    "#Defining the model and finding it best parameters\n",
    "\n",
    "forest_clf = RandomForestClassifier()\n",
    "forest_clf.fit(X_train,y_train)\n",
    "forest_clf.score(X_test,y_test)"
   ]
  },
  {
   "cell_type": "markdown",
   "id": "4397dc65",
   "metadata": {},
   "source": [
    "## HyperParameter Tuning "
   ]
  },
  {
   "cell_type": "code",
   "execution_count": 46,
   "id": "d6be98e8",
   "metadata": {},
   "outputs": [],
   "source": [
    "from sklearn.model_selection import GridSearchCV"
   ]
  },
  {
   "cell_type": "code",
   "execution_count": 47,
   "id": "b9e4ed0c",
   "metadata": {},
   "outputs": [],
   "source": [
    "param_grid = { \n",
    "    'n_estimators': [200, 500],\n",
    "    'max_features': ['auto', 'sqrt', 'log2'],\n",
    "    'max_depth' : [4,5,6,7,8],\n",
    "    'criterion' :['gini', 'entropy']\n",
    "}"
   ]
  },
  {
   "cell_type": "code",
   "execution_count": 49,
   "id": "43f9ee77",
   "metadata": {},
   "outputs": [
    {
     "data": {
      "text/plain": [
       "GridSearchCV(cv=5, estimator=RandomForestClassifier(),\n",
       "             param_grid={'criterion': ['gini', 'entropy'],\n",
       "                         'max_depth': [4, 5, 6, 7, 8],\n",
       "                         'max_features': ['auto', 'sqrt', 'log2'],\n",
       "                         'n_estimators': [200, 500]})"
      ]
     },
     "execution_count": 49,
     "metadata": {},
     "output_type": "execute_result"
    }
   ],
   "source": [
    "CV_rfc = GridSearchCV(estimator=forest_clf, param_grid=param_grid, cv= 5)\n",
    "CV_rfc.fit(X_train, y_train)"
   ]
  },
  {
   "cell_type": "code",
   "execution_count": 52,
   "id": "d1783a62",
   "metadata": {},
   "outputs": [
    {
     "data": {
      "text/plain": [
       "{'criterion': 'entropy',\n",
       " 'max_depth': 8,\n",
       " 'max_features': 'sqrt',\n",
       " 'n_estimators': 500}"
      ]
     },
     "execution_count": 52,
     "metadata": {},
     "output_type": "execute_result"
    }
   ],
   "source": [
    "CV_rfc.best_params_"
   ]
  },
  {
   "cell_type": "code",
   "execution_count": 53,
   "id": "739f8449",
   "metadata": {},
   "outputs": [
    {
     "data": {
      "text/plain": [
       "RandomForestClassifier(criterion='entropy', max_depth=8, max_features='sqrt',\n",
       "                       n_estimators=500)"
      ]
     },
     "execution_count": 53,
     "metadata": {},
     "output_type": "execute_result"
    }
   ],
   "source": [
    "CV_rfc.best_estimator_"
   ]
  },
  {
   "cell_type": "code",
   "execution_count": 54,
   "id": "2f525fd3",
   "metadata": {
    "collapsed": true
   },
   "outputs": [
    {
     "name": "stdout",
     "output_type": "stream",
     "text": [
      "nan {'criterion': 'gini', 'max_depth': 4, 'max_features': 'auto', 'n_estimators': 200}\n",
      "nan {'criterion': 'gini', 'max_depth': 4, 'max_features': 'auto', 'n_estimators': 500}\n",
      "nan {'criterion': 'gini', 'max_depth': 4, 'max_features': 'sqrt', 'n_estimators': 200}\n",
      "nan {'criterion': 'gini', 'max_depth': 4, 'max_features': 'sqrt', 'n_estimators': 500}\n",
      "nan {'criterion': 'gini', 'max_depth': 4, 'max_features': 'log2', 'n_estimators': 200}\n",
      "nan {'criterion': 'gini', 'max_depth': 4, 'max_features': 'log2', 'n_estimators': 500}\n",
      "nan {'criterion': 'gini', 'max_depth': 5, 'max_features': 'auto', 'n_estimators': 200}\n",
      "nan {'criterion': 'gini', 'max_depth': 5, 'max_features': 'auto', 'n_estimators': 500}\n",
      "nan {'criterion': 'gini', 'max_depth': 5, 'max_features': 'sqrt', 'n_estimators': 200}\n",
      "nan {'criterion': 'gini', 'max_depth': 5, 'max_features': 'sqrt', 'n_estimators': 500}\n",
      "nan {'criterion': 'gini', 'max_depth': 5, 'max_features': 'log2', 'n_estimators': 200}\n",
      "nan {'criterion': 'gini', 'max_depth': 5, 'max_features': 'log2', 'n_estimators': 500}\n",
      "nan {'criterion': 'gini', 'max_depth': 6, 'max_features': 'auto', 'n_estimators': 200}\n",
      "nan {'criterion': 'gini', 'max_depth': 6, 'max_features': 'auto', 'n_estimators': 500}\n",
      "nan {'criterion': 'gini', 'max_depth': 6, 'max_features': 'sqrt', 'n_estimators': 200}\n",
      "nan {'criterion': 'gini', 'max_depth': 6, 'max_features': 'sqrt', 'n_estimators': 500}\n",
      "nan {'criterion': 'gini', 'max_depth': 6, 'max_features': 'log2', 'n_estimators': 200}\n",
      "nan {'criterion': 'gini', 'max_depth': 6, 'max_features': 'log2', 'n_estimators': 500}\n",
      "nan {'criterion': 'gini', 'max_depth': 7, 'max_features': 'auto', 'n_estimators': 200}\n",
      "nan {'criterion': 'gini', 'max_depth': 7, 'max_features': 'auto', 'n_estimators': 500}\n",
      "nan {'criterion': 'gini', 'max_depth': 7, 'max_features': 'sqrt', 'n_estimators': 200}\n",
      "nan {'criterion': 'gini', 'max_depth': 7, 'max_features': 'sqrt', 'n_estimators': 500}\n",
      "nan {'criterion': 'gini', 'max_depth': 7, 'max_features': 'log2', 'n_estimators': 200}\n",
      "nan {'criterion': 'gini', 'max_depth': 7, 'max_features': 'log2', 'n_estimators': 500}\n",
      "nan {'criterion': 'gini', 'max_depth': 8, 'max_features': 'auto', 'n_estimators': 200}\n",
      "nan {'criterion': 'gini', 'max_depth': 8, 'max_features': 'auto', 'n_estimators': 500}\n",
      "nan {'criterion': 'gini', 'max_depth': 8, 'max_features': 'sqrt', 'n_estimators': 200}\n",
      "nan {'criterion': 'gini', 'max_depth': 8, 'max_features': 'sqrt', 'n_estimators': 500}\n",
      "nan {'criterion': 'gini', 'max_depth': 8, 'max_features': 'log2', 'n_estimators': 200}\n",
      "nan {'criterion': 'gini', 'max_depth': 8, 'max_features': 'log2', 'n_estimators': 500}\n",
      "nan {'criterion': 'entropy', 'max_depth': 4, 'max_features': 'auto', 'n_estimators': 200}\n",
      "nan {'criterion': 'entropy', 'max_depth': 4, 'max_features': 'auto', 'n_estimators': 500}\n",
      "nan {'criterion': 'entropy', 'max_depth': 4, 'max_features': 'sqrt', 'n_estimators': 200}\n",
      "nan {'criterion': 'entropy', 'max_depth': 4, 'max_features': 'sqrt', 'n_estimators': 500}\n",
      "nan {'criterion': 'entropy', 'max_depth': 4, 'max_features': 'log2', 'n_estimators': 200}\n",
      "nan {'criterion': 'entropy', 'max_depth': 4, 'max_features': 'log2', 'n_estimators': 500}\n",
      "nan {'criterion': 'entropy', 'max_depth': 5, 'max_features': 'auto', 'n_estimators': 200}\n",
      "nan {'criterion': 'entropy', 'max_depth': 5, 'max_features': 'auto', 'n_estimators': 500}\n",
      "nan {'criterion': 'entropy', 'max_depth': 5, 'max_features': 'sqrt', 'n_estimators': 200}\n",
      "nan {'criterion': 'entropy', 'max_depth': 5, 'max_features': 'sqrt', 'n_estimators': 500}\n",
      "nan {'criterion': 'entropy', 'max_depth': 5, 'max_features': 'log2', 'n_estimators': 200}\n",
      "nan {'criterion': 'entropy', 'max_depth': 5, 'max_features': 'log2', 'n_estimators': 500}\n",
      "nan {'criterion': 'entropy', 'max_depth': 6, 'max_features': 'auto', 'n_estimators': 200}\n",
      "nan {'criterion': 'entropy', 'max_depth': 6, 'max_features': 'auto', 'n_estimators': 500}\n",
      "nan {'criterion': 'entropy', 'max_depth': 6, 'max_features': 'sqrt', 'n_estimators': 200}\n",
      "nan {'criterion': 'entropy', 'max_depth': 6, 'max_features': 'sqrt', 'n_estimators': 500}\n",
      "nan {'criterion': 'entropy', 'max_depth': 6, 'max_features': 'log2', 'n_estimators': 200}\n",
      "nan {'criterion': 'entropy', 'max_depth': 6, 'max_features': 'log2', 'n_estimators': 500}\n",
      "nan {'criterion': 'entropy', 'max_depth': 7, 'max_features': 'auto', 'n_estimators': 200}\n",
      "nan {'criterion': 'entropy', 'max_depth': 7, 'max_features': 'auto', 'n_estimators': 500}\n",
      "nan {'criterion': 'entropy', 'max_depth': 7, 'max_features': 'sqrt', 'n_estimators': 200}\n",
      "nan {'criterion': 'entropy', 'max_depth': 7, 'max_features': 'sqrt', 'n_estimators': 500}\n",
      "nan {'criterion': 'entropy', 'max_depth': 7, 'max_features': 'log2', 'n_estimators': 200}\n",
      "nan {'criterion': 'entropy', 'max_depth': 7, 'max_features': 'log2', 'n_estimators': 500}\n",
      "nan {'criterion': 'entropy', 'max_depth': 8, 'max_features': 'auto', 'n_estimators': 200}\n",
      "nan {'criterion': 'entropy', 'max_depth': 8, 'max_features': 'auto', 'n_estimators': 500}\n",
      "nan {'criterion': 'entropy', 'max_depth': 8, 'max_features': 'sqrt', 'n_estimators': 200}\n",
      "nan {'criterion': 'entropy', 'max_depth': 8, 'max_features': 'sqrt', 'n_estimators': 500}\n",
      "nan {'criterion': 'entropy', 'max_depth': 8, 'max_features': 'log2', 'n_estimators': 200}\n",
      "nan {'criterion': 'entropy', 'max_depth': 8, 'max_features': 'log2', 'n_estimators': 500}\n"
     ]
    }
   ],
   "source": [
    "cvres = CV_rfc.cv_results_\n",
    "for mean_score, params in zip(cvres['mean_test_score'], cvres['params']):\n",
    "    print(np.sqrt(-mean_score), params)\n",
    "    "
   ]
  },
  {
   "cell_type": "code",
   "execution_count": 57,
   "id": "829d902e",
   "metadata": {},
   "outputs": [],
   "source": [
    "rfc1=RandomForestClassifier(random_state=42, max_features='sqrt', n_estimators= 500, max_depth=8, criterion='entropy')"
   ]
  },
  {
   "cell_type": "code",
   "execution_count": 58,
   "id": "ccf018dd",
   "metadata": {},
   "outputs": [
    {
     "data": {
      "text/plain": [
       "RandomForestClassifier(criterion='entropy', max_depth=8, max_features='sqrt',\n",
       "                       n_estimators=500, random_state=42)"
      ]
     },
     "execution_count": 58,
     "metadata": {},
     "output_type": "execute_result"
    }
   ],
   "source": [
    "rfc1.fit(X_train, y_train)"
   ]
  },
  {
   "cell_type": "code",
   "execution_count": 60,
   "id": "7342596b",
   "metadata": {},
   "outputs": [],
   "source": [
    "pred=rfc1.predict(X_test)"
   ]
  },
  {
   "cell_type": "code",
   "execution_count": 62,
   "id": "b6ff47e7",
   "metadata": {},
   "outputs": [
    {
     "name": "stdout",
     "output_type": "stream",
     "text": [
      "Accuracy for Random Forest on CV data:  0.928817451205511\n"
     ]
    }
   ],
   "source": [
    "from sklearn.metrics import accuracy_score\n",
    "print(\"Accuracy for Random Forest on CV data: \",accuracy_score(y_test,pred))"
   ]
  },
  {
   "cell_type": "code",
   "execution_count": 44,
   "id": "6963192f",
   "metadata": {},
   "outputs": [],
   "source": [
    "# Finding correlation plot in this"
   ]
  },
  {
   "cell_type": "code",
   "execution_count": 45,
   "id": "c2c963e4",
   "metadata": {},
   "outputs": [
    {
     "data": {
      "image/png": "[encoded data removed]",
      "text/plain": [
       "<Figure size 576x432 with 2 Axes>"
      ]
     },
     "metadata": {
      "needs_background": "light"
     },
     "output_type": "display_data"
    }
   ],
   "source": [
    "cor= df.corr(method='pearson')\n",
    "fig, ax =plt.subplots(figsize=(8, 6))\n",
    "plt.title(\"Correlation Plot\")\n",
    "sns.heatmap(cor, mask=np.zeros_like(cor, dtype=np.bool), cmap=sns.diverging_palette(220, 10, as_cmap=True),\n",
    "            square=True, ax=ax)\n",
    "plt.show()"
   ]
  },
  {
   "cell_type": "code",
   "execution_count": null,
   "id": "9cd32333",
   "metadata": {},
   "outputs": [],
   "source": []
  }
 ],
 "metadata": {
  "kernelspec": {
   "display_name": "dl_env",
   "language": "python",
   "name": "dl_env"
  },
  "language_info": {
   "codemirror_mode": {
    "name": "ipython",
    "version": 3
   },
   "file_extension": ".py",
   "mimetype": "text/x-python",
   "name": "python",
   "nbconvert_exporter": "python",
   "pygments_lexer": "ipython3",
   "version": "3.9.7"
  }
 },
 "nbformat": 4,
 "nbformat_minor": 5
}
